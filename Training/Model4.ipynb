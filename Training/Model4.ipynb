{
  "nbformat": 4,
  "nbformat_minor": 0,
  "metadata": {
    "colab": {
      "name": "Model4.ipynb",
      "provenance": [],
      "collapsed_sections": [
        "hdmlMq7BBzoV",
        "1uiTvOH5BzUD"
      ]
    },
    "kernelspec": {
      "name": "python3",
      "display_name": "Python 3"
    },
    "language_info": {
      "name": "python"
    },
    "accelerator": "GPU"
  },
  "cells": [
    {
      "cell_type": "markdown",
      "metadata": {
        "id": "hdmlMq7BBzoV"
      },
      "source": [
        "# Import Packages"
      ]
    },
    {
      "cell_type": "code",
      "metadata": {
        "id": "b2kQ-mhu-DZR"
      },
      "source": [
        "import matplotlib.pyplot as plt"
      ],
      "execution_count": 1,
      "outputs": []
    },
    {
      "cell_type": "markdown",
      "metadata": {
        "id": "1uiTvOH5BzUD"
      },
      "source": [
        "# Train Model"
      ]
    },
    {
      "cell_type": "code",
      "metadata": {
        "id": "dHfxgD-_yZ3J",
        "colab": {
          "base_uri": "https://localhost:8080/"
        },
        "outputId": "88ccc0d6-87d6-4973-f4e4-1dcfd1e98231"
      },
      "source": [
        "!python train_evaluate_CNN.py --mode 4 --learning_rate 0.03 --num_epochs 60 --batch_size 10"
      ],
      "execution_count": 2,
      "outputs": [
        {
          "output_type": "stream",
          "name": "stdout",
          "text": [
            "Torch device selected:  cuda\n",
            "Downloading http://yann.lecun.com/exdb/mnist/train-images-idx3-ubyte.gz\n",
            "Downloading http://yann.lecun.com/exdb/mnist/train-images-idx3-ubyte.gz to ./data/MNIST/raw/train-images-idx3-ubyte.gz\n",
            "9913344it [00:00, 85593610.25it/s]                 \n",
            "Extracting ./data/MNIST/raw/train-images-idx3-ubyte.gz to ./data/MNIST/raw\n",
            "\n",
            "Downloading http://yann.lecun.com/exdb/mnist/train-labels-idx1-ubyte.gz\n",
            "Downloading http://yann.lecun.com/exdb/mnist/train-labels-idx1-ubyte.gz to ./data/MNIST/raw/train-labels-idx1-ubyte.gz\n",
            "29696it [00:00, 39616428.62it/s]\n",
            "Extracting ./data/MNIST/raw/train-labels-idx1-ubyte.gz to ./data/MNIST/raw\n",
            "\n",
            "Downloading http://yann.lecun.com/exdb/mnist/t10k-images-idx3-ubyte.gz\n",
            "Downloading http://yann.lecun.com/exdb/mnist/t10k-images-idx3-ubyte.gz to ./data/MNIST/raw/t10k-images-idx3-ubyte.gz\n",
            "1649664it [00:00, 43926638.48it/s]\n",
            "Extracting ./data/MNIST/raw/t10k-images-idx3-ubyte.gz to ./data/MNIST/raw\n",
            "\n",
            "Downloading http://yann.lecun.com/exdb/mnist/t10k-labels-idx1-ubyte.gz\n",
            "Downloading http://yann.lecun.com/exdb/mnist/t10k-labels-idx1-ubyte.gz to ./data/MNIST/raw/t10k-labels-idx1-ubyte.gz\n",
            "5120it [00:00, 29337208.31it/s]\n",
            "Extracting ./data/MNIST/raw/t10k-labels-idx1-ubyte.gz to ./data/MNIST/raw\n",
            "\n",
            "/usr/local/lib/python3.7/dist-packages/torchvision/datasets/mnist.py:498: UserWarning: The given NumPy array is not writeable, and PyTorch does not support non-writeable tensors. This means you can write to the underlying (supposedly non-writeable) NumPy array using the tensor. You may want to copy the array to protect its data or make it writeable before converting it to a tensor. This type of warning will be suppressed for the rest of this program. (Triggered internally at  /pytorch/torch/csrc/utils/tensor_numpy.cpp:180.)\n",
            "  return torch.from_numpy(parsed.astype(m[2], copy=False)).view(*s)\n",
            "/usr/local/lib/python3.7/dist-packages/torch/utils/data/dataloader.py:481: UserWarning: This DataLoader will create 4 worker processes in total. Our suggested max number of worker in current system is 2, which is smaller than what this DataLoader is going to create. Please be aware that excessive worker creation might get DataLoader running slow or even freeze, lower the worker number to avoid potential slowness/freeze if necessary.\n",
            "  cpuset_checked))\n",
            "epoch :  1\n",
            "/usr/local/lib/python3.7/dist-packages/torch/nn/functional.py:718: UserWarning: Named tensors and all their associated APIs are an experimental feature and subject to change. Please do not use them for anything important until they are released as stable. (Triggered internally at  /pytorch/c10/core/TensorImpl.h:1156.)\n",
            "  return torch.max_pool2d(input, kernel_size, stride, padding, dilation, ceil_mode)\n",
            "Train set: Average loss: 0.1507, Accuracy: 57163/60000 (95%)\n",
            "\n",
            "\n",
            "Test set: Average loss: 0.0458, Accuracy: 9861/10000 (99%)\n",
            "\n",
            "epoch :  2\n",
            "Train set: Average loss: 0.0446, Accuracy: 59221/60000 (99%)\n",
            "\n",
            "\n",
            "Test set: Average loss: 0.0375, Accuracy: 9889/10000 (99%)\n",
            "\n",
            "epoch :  3\n",
            "Train set: Average loss: 0.0311, Accuracy: 59410/60000 (99%)\n",
            "\n",
            "\n",
            "Test set: Average loss: 0.0324, Accuracy: 9900/10000 (99%)\n",
            "\n",
            "epoch :  4\n",
            "Train set: Average loss: 0.0227, Accuracy: 59573/60000 (99%)\n",
            "\n",
            "\n",
            "Test set: Average loss: 0.0329, Accuracy: 9895/10000 (99%)\n",
            "\n",
            "epoch :  5\n",
            "Train set: Average loss: 0.0170, Accuracy: 59681/60000 (99%)\n",
            "\n",
            "\n",
            "Test set: Average loss: 0.0303, Accuracy: 9916/10000 (99%)\n",
            "\n",
            "epoch :  6\n",
            "Train set: Average loss: 0.0128, Accuracy: 59762/60000 (100%)\n",
            "\n",
            "\n",
            "Test set: Average loss: 0.0341, Accuracy: 9903/10000 (99%)\n",
            "\n",
            "epoch :  7\n",
            "Train set: Average loss: 0.0111, Accuracy: 59784/60000 (100%)\n",
            "\n",
            "\n",
            "Test set: Average loss: 0.0323, Accuracy: 9910/10000 (99%)\n",
            "\n",
            "epoch :  8\n",
            "Train set: Average loss: 0.0100, Accuracy: 59812/60000 (100%)\n",
            "\n",
            "\n",
            "Test set: Average loss: 0.0367, Accuracy: 9900/10000 (99%)\n",
            "\n",
            "epoch :  9\n",
            "Train set: Average loss: 0.0083, Accuracy: 59832/60000 (100%)\n",
            "\n",
            "\n",
            "Test set: Average loss: 0.0464, Accuracy: 9903/10000 (99%)\n",
            "\n",
            "epoch :  10\n",
            "Train set: Average loss: 0.0078, Accuracy: 59858/60000 (100%)\n",
            "\n",
            "\n",
            "Test set: Average loss: 0.0373, Accuracy: 9911/10000 (99%)\n",
            "\n",
            "epoch :  11\n",
            "Train set: Average loss: 0.0044, Accuracy: 59928/60000 (100%)\n",
            "\n",
            "\n",
            "Test set: Average loss: 0.0348, Accuracy: 9913/10000 (99%)\n",
            "\n",
            "epoch :  12\n",
            "Train set: Average loss: 0.0052, Accuracy: 59895/60000 (100%)\n",
            "\n",
            "\n",
            "Test set: Average loss: 0.0357, Accuracy: 9910/10000 (99%)\n",
            "\n",
            "epoch :  13\n",
            "Train set: Average loss: 0.0028, Accuracy: 59955/60000 (100%)\n",
            "\n",
            "\n",
            "Test set: Average loss: 0.0429, Accuracy: 9913/10000 (99%)\n",
            "\n",
            "epoch :  14\n",
            "Train set: Average loss: 0.0036, Accuracy: 59935/60000 (100%)\n",
            "\n",
            "\n",
            "Test set: Average loss: 0.0409, Accuracy: 9913/10000 (99%)\n",
            "\n",
            "epoch :  15\n",
            "Train set: Average loss: 0.0063, Accuracy: 59879/60000 (100%)\n",
            "\n",
            "\n",
            "Test set: Average loss: 0.0416, Accuracy: 9912/10000 (99%)\n",
            "\n",
            "epoch :  16\n",
            "Train set: Average loss: 0.0024, Accuracy: 59949/60000 (100%)\n",
            "\n",
            "\n",
            "Test set: Average loss: 0.0402, Accuracy: 9911/10000 (99%)\n",
            "\n",
            "epoch :  17\n",
            "Train set: Average loss: 0.0018, Accuracy: 59970/60000 (100%)\n",
            "\n",
            "\n",
            "Test set: Average loss: 0.0357, Accuracy: 9923/10000 (99%)\n",
            "\n",
            "epoch :  18\n",
            "Train set: Average loss: 0.0004, Accuracy: 59995/60000 (100%)\n",
            "\n",
            "\n",
            "Test set: Average loss: 0.0354, Accuracy: 9930/10000 (99%)\n",
            "\n",
            "epoch :  19\n",
            "Train set: Average loss: 0.0001, Accuracy: 59999/60000 (100%)\n",
            "\n",
            "\n",
            "Test set: Average loss: 0.0373, Accuracy: 9930/10000 (99%)\n",
            "\n",
            "epoch :  20\n",
            "Train set: Average loss: 0.0001, Accuracy: 60000/60000 (100%)\n",
            "\n",
            "\n",
            "Test set: Average loss: 0.0386, Accuracy: 9932/10000 (99%)\n",
            "\n",
            "epoch :  21\n",
            "Train set: Average loss: 0.0000, Accuracy: 60000/60000 (100%)\n",
            "\n",
            "\n",
            "Test set: Average loss: 0.0391, Accuracy: 9931/10000 (99%)\n",
            "\n",
            "epoch :  22\n",
            "Train set: Average loss: 0.0000, Accuracy: 60000/60000 (100%)\n",
            "\n",
            "\n",
            "Test set: Average loss: 0.0399, Accuracy: 9932/10000 (99%)\n",
            "\n",
            "epoch :  23\n",
            "Train set: Average loss: 0.0000, Accuracy: 60000/60000 (100%)\n",
            "\n",
            "\n",
            "Test set: Average loss: 0.0404, Accuracy: 9931/10000 (99%)\n",
            "\n",
            "epoch :  24\n",
            "Train set: Average loss: 0.0000, Accuracy: 60000/60000 (100%)\n",
            "\n",
            "\n",
            "Test set: Average loss: 0.0408, Accuracy: 9932/10000 (99%)\n",
            "\n",
            "epoch :  25\n",
            "Train set: Average loss: 0.0000, Accuracy: 60000/60000 (100%)\n",
            "\n",
            "\n",
            "Test set: Average loss: 0.0413, Accuracy: 9932/10000 (99%)\n",
            "\n",
            "epoch :  26\n",
            "Train set: Average loss: 0.0000, Accuracy: 60000/60000 (100%)\n",
            "\n",
            "\n",
            "Test set: Average loss: 0.0418, Accuracy: 9932/10000 (99%)\n",
            "\n",
            "epoch :  27\n",
            "Train set: Average loss: 0.0000, Accuracy: 60000/60000 (100%)\n",
            "\n",
            "\n",
            "Test set: Average loss: 0.0421, Accuracy: 9932/10000 (99%)\n",
            "\n",
            "epoch :  28\n",
            "Train set: Average loss: 0.0000, Accuracy: 60000/60000 (100%)\n",
            "\n",
            "\n",
            "Test set: Average loss: 0.0425, Accuracy: 9933/10000 (99%)\n",
            "\n",
            "epoch :  29\n",
            "Train set: Average loss: 0.0000, Accuracy: 60000/60000 (100%)\n",
            "\n",
            "\n",
            "Test set: Average loss: 0.0428, Accuracy: 9932/10000 (99%)\n",
            "\n",
            "epoch :  30\n",
            "Train set: Average loss: 0.0000, Accuracy: 60000/60000 (100%)\n",
            "\n",
            "\n",
            "Test set: Average loss: 0.0431, Accuracy: 9932/10000 (99%)\n",
            "\n",
            "epoch :  31\n",
            "Train set: Average loss: 0.0000, Accuracy: 60000/60000 (100%)\n",
            "\n",
            "\n",
            "Test set: Average loss: 0.0434, Accuracy: 9933/10000 (99%)\n",
            "\n",
            "epoch :  32\n",
            "Train set: Average loss: 0.0000, Accuracy: 60000/60000 (100%)\n",
            "\n",
            "\n",
            "Test set: Average loss: 0.0436, Accuracy: 9933/10000 (99%)\n",
            "\n",
            "epoch :  33\n",
            "Train set: Average loss: 0.0000, Accuracy: 60000/60000 (100%)\n",
            "\n",
            "\n",
            "Test set: Average loss: 0.0439, Accuracy: 9932/10000 (99%)\n",
            "\n",
            "epoch :  34\n",
            "Train set: Average loss: 0.0000, Accuracy: 60000/60000 (100%)\n",
            "\n",
            "\n",
            "Test set: Average loss: 0.0442, Accuracy: 9931/10000 (99%)\n",
            "\n",
            "epoch :  35\n",
            "Train set: Average loss: 0.0000, Accuracy: 60000/60000 (100%)\n",
            "\n",
            "\n",
            "Test set: Average loss: 0.0444, Accuracy: 9932/10000 (99%)\n",
            "\n",
            "epoch :  36\n",
            "Train set: Average loss: 0.0000, Accuracy: 60000/60000 (100%)\n",
            "\n",
            "\n",
            "Test set: Average loss: 0.0446, Accuracy: 9932/10000 (99%)\n",
            "\n",
            "epoch :  37\n",
            "Train set: Average loss: 0.0000, Accuracy: 60000/60000 (100%)\n",
            "\n",
            "\n",
            "Test set: Average loss: 0.0448, Accuracy: 9932/10000 (99%)\n",
            "\n",
            "epoch :  38\n",
            "Train set: Average loss: 0.0000, Accuracy: 60000/60000 (100%)\n",
            "\n",
            "\n",
            "Test set: Average loss: 0.0450, Accuracy: 9932/10000 (99%)\n",
            "\n",
            "epoch :  39\n",
            "Train set: Average loss: 0.0000, Accuracy: 60000/60000 (100%)\n",
            "\n",
            "\n",
            "Test set: Average loss: 0.0452, Accuracy: 9931/10000 (99%)\n",
            "\n",
            "epoch :  40\n",
            "Train set: Average loss: 0.0000, Accuracy: 60000/60000 (100%)\n",
            "\n",
            "\n",
            "Test set: Average loss: 0.0454, Accuracy: 9932/10000 (99%)\n",
            "\n",
            "epoch :  41\n",
            "Train set: Average loss: 0.0000, Accuracy: 60000/60000 (100%)\n",
            "\n",
            "\n",
            "Test set: Average loss: 0.0456, Accuracy: 9931/10000 (99%)\n",
            "\n",
            "epoch :  42\n",
            "Train set: Average loss: 0.0000, Accuracy: 60000/60000 (100%)\n",
            "\n",
            "\n",
            "Test set: Average loss: 0.0458, Accuracy: 9931/10000 (99%)\n",
            "\n",
            "epoch :  43\n",
            "Train set: Average loss: 0.0000, Accuracy: 60000/60000 (100%)\n",
            "\n",
            "\n",
            "Test set: Average loss: 0.0459, Accuracy: 9931/10000 (99%)\n",
            "\n",
            "epoch :  44\n",
            "Train set: Average loss: 0.0000, Accuracy: 60000/60000 (100%)\n",
            "\n",
            "\n",
            "Test set: Average loss: 0.0461, Accuracy: 9931/10000 (99%)\n",
            "\n",
            "epoch :  45\n",
            "Train set: Average loss: 0.0000, Accuracy: 60000/60000 (100%)\n",
            "\n",
            "\n",
            "Test set: Average loss: 0.0462, Accuracy: 9931/10000 (99%)\n",
            "\n",
            "epoch :  46\n",
            "Train set: Average loss: 0.0000, Accuracy: 60000/60000 (100%)\n",
            "\n",
            "\n",
            "Test set: Average loss: 0.0464, Accuracy: 9931/10000 (99%)\n",
            "\n",
            "epoch :  47\n",
            "Train set: Average loss: 0.0000, Accuracy: 60000/60000 (100%)\n",
            "\n",
            "\n",
            "Test set: Average loss: 0.0465, Accuracy: 9931/10000 (99%)\n",
            "\n",
            "epoch :  48\n",
            "Train set: Average loss: 0.0000, Accuracy: 60000/60000 (100%)\n",
            "\n",
            "\n",
            "Test set: Average loss: 0.0467, Accuracy: 9931/10000 (99%)\n",
            "\n",
            "epoch :  49\n",
            "Train set: Average loss: 0.0000, Accuracy: 60000/60000 (100%)\n",
            "\n",
            "\n",
            "Test set: Average loss: 0.0468, Accuracy: 9931/10000 (99%)\n",
            "\n",
            "epoch :  50\n",
            "Train set: Average loss: 0.0000, Accuracy: 60000/60000 (100%)\n",
            "\n",
            "\n",
            "Test set: Average loss: 0.0469, Accuracy: 9931/10000 (99%)\n",
            "\n",
            "epoch :  51\n",
            "Train set: Average loss: 0.0000, Accuracy: 60000/60000 (100%)\n",
            "\n",
            "\n",
            "Test set: Average loss: 0.0470, Accuracy: 9931/10000 (99%)\n",
            "\n",
            "epoch :  52\n",
            "Train set: Average loss: 0.0000, Accuracy: 60000/60000 (100%)\n",
            "\n",
            "\n",
            "Test set: Average loss: 0.0472, Accuracy: 9931/10000 (99%)\n",
            "\n",
            "epoch :  53\n",
            "Train set: Average loss: 0.0000, Accuracy: 60000/60000 (100%)\n",
            "\n",
            "\n",
            "Test set: Average loss: 0.0473, Accuracy: 9931/10000 (99%)\n",
            "\n",
            "epoch :  54\n",
            "Train set: Average loss: 0.0000, Accuracy: 60000/60000 (100%)\n",
            "\n",
            "\n",
            "Test set: Average loss: 0.0474, Accuracy: 9931/10000 (99%)\n",
            "\n",
            "epoch :  55\n",
            "Train set: Average loss: 0.0000, Accuracy: 60000/60000 (100%)\n",
            "\n",
            "\n",
            "Test set: Average loss: 0.0475, Accuracy: 9931/10000 (99%)\n",
            "\n",
            "epoch :  56\n",
            "Train set: Average loss: 0.0000, Accuracy: 60000/60000 (100%)\n",
            "\n",
            "\n",
            "Test set: Average loss: 0.0476, Accuracy: 9931/10000 (99%)\n",
            "\n",
            "epoch :  57\n",
            "Train set: Average loss: 0.0000, Accuracy: 60000/60000 (100%)\n",
            "\n",
            "\n",
            "Test set: Average loss: 0.0477, Accuracy: 9931/10000 (99%)\n",
            "\n",
            "epoch :  58\n",
            "Train set: Average loss: 0.0000, Accuracy: 60000/60000 (100%)\n",
            "\n",
            "\n",
            "Test set: Average loss: 0.0479, Accuracy: 9931/10000 (99%)\n",
            "\n",
            "epoch :  59\n",
            "Train set: Average loss: 0.0000, Accuracy: 60000/60000 (100%)\n",
            "\n",
            "\n",
            "Test set: Average loss: 0.0480, Accuracy: 9931/10000 (99%)\n",
            "\n",
            "epoch :  60\n",
            "Train set: Average loss: 0.0000, Accuracy: 60000/60000 (100%)\n",
            "\n",
            "\n",
            "Test set: Average loss: 0.0481, Accuracy: 9931/10000 (99%)\n",
            "\n",
            "accuracy is 99.33\n",
            "Training and evaluation finished\n"
          ]
        }
      ]
    },
    {
      "cell_type": "markdown",
      "metadata": {
        "id": "cG2taQ2bB5Fq"
      },
      "source": [
        "# Plot Results"
      ]
    },
    {
      "cell_type": "code",
      "metadata": {
        "id": "tRY6ZXIQ-TDn"
      },
      "source": [
        "my_file = open(\"train_loss.txt\", \"r\")\n",
        "content = my_file.read()\n",
        "train_loss = content.split(\"\\n\")\n",
        "my_file.close()\n",
        "train_loss = [float(train_loss[i]) for i in range(0,len(train_loss)-1)]"
      ],
      "execution_count": 3,
      "outputs": []
    },
    {
      "cell_type": "code",
      "metadata": {
        "id": "tCbt8BuCBNSw"
      },
      "source": [
        "my_file = open(\"test_loss.txt\", \"r\")\n",
        "content = my_file.read()\n",
        "test_loss = content.split(\"\\n\")\n",
        "my_file.close()\n",
        "test_loss = [float(test_loss[i]) for i in range(0,len(test_loss)-1)]"
      ],
      "execution_count": 4,
      "outputs": []
    },
    {
      "cell_type": "code",
      "metadata": {
        "id": "SUua1VaCBN1r"
      },
      "source": [
        "my_file = open(\"train_acc.txt\", \"r\")\n",
        "content = my_file.read()\n",
        "train_acc = content.split(\"\\n\")\n",
        "my_file.close()\n",
        "train_acc = [float(train_acc[i]) for i in range(0,len(train_acc)-1)]"
      ],
      "execution_count": 5,
      "outputs": []
    },
    {
      "cell_type": "code",
      "metadata": {
        "id": "hhciAhlvBORe"
      },
      "source": [
        "my_file = open(\"test_acc.txt\", \"r\")\n",
        "content = my_file.read()\n",
        "test_acc = content.split(\"\\n\")\n",
        "my_file.close()\n",
        "test_acc = [float(test_acc[i]) for i in range(0,len(test_acc)-1)]"
      ],
      "execution_count": 6,
      "outputs": []
    },
    {
      "cell_type": "code",
      "metadata": {
        "id": "G_se5n4PBreM"
      },
      "source": [
        "x = list(range(1,61))"
      ],
      "execution_count": 7,
      "outputs": []
    },
    {
      "cell_type": "code",
      "metadata": {
        "colab": {
          "base_uri": "https://localhost:8080/",
          "height": 295
        },
        "id": "rIhmZ5KxCDu-",
        "outputId": "2cb19aa8-0b61-44d5-ee55-bf06d2730899"
      },
      "source": [
        "plt.plot(x, train_loss)\n",
        "plt.xlabel('Epochs')\n",
        "plt.ylabel('Loss')\n",
        "plt.title('Training Loss')\n",
        "plt.show()"
      ],
      "execution_count": 8,
      "outputs": [
        {
          "output_type": "display_data",
          "data": {
            "image/png": "[encoded data removed]",
            "text/plain": [
              "<Figure size 432x288 with 1 Axes>"
            ]
          },
          "metadata": {
            "needs_background": "light"
          }
        }
      ]
    },
    {
      "cell_type": "code",
      "metadata": {
        "colab": {
          "base_uri": "https://localhost:8080/",
          "height": 295
        },
        "id": "oMOY7BpDChvs",
        "outputId": "b44d337e-b161-4b31-b3fb-4e76b69530c8"
      },
      "source": [
        "plt.plot(x, train_acc)\n",
        "plt.xlabel('Epochs')\n",
        "plt.ylabel('Accuracy')\n",
        "plt.title('Training Accuracy')\n",
        "plt.show()"
      ],
      "execution_count": 9,
      "outputs": [
        {
          "output_type": "display_data",
          "data": {
            "image/png": "[encoded data removed]",
            "text/plain": [
              "<Figure size 432x288 with 1 Axes>"
            ]
          },
          "metadata": {
            "needs_background": "light"
          }
        }
      ]
    },
    {
      "cell_type": "code",
      "metadata": {
        "colab": {
          "base_uri": "https://localhost:8080/",
          "height": 295
        },
        "id": "FRqC_JhaCiW9",
        "outputId": "a9daf691-7185-4ec4-c64b-76ba765c0dcb"
      },
      "source": [
        "plt.plot(x, test_loss)\n",
        "plt.xlabel('Epochs')\n",
        "plt.ylabel('Loss')\n",
        "plt.title('Testing Loss')\n",
        "plt.show()"
      ],
      "execution_count": 10,
      "outputs": [
        {
          "output_type": "display_data",
          "data": {
            "image/png": "[encoded data removed]",
            "text/plain": [
              "<Figure size 432x288 with 1 Axes>"
            ]
          },
          "metadata": {
            "needs_background": "light"
          }
        }
      ]
    },
    {
      "cell_type": "code",
      "metadata": {
        "colab": {
          "base_uri": "https://localhost:8080/",
          "height": 295
        },
        "id": "6bjhcrI8Ciwb",
        "outputId": "305e8027-0518-4a0e-e4a0-05741215003c"
      },
      "source": [
        "plt.plot(x, test_acc)\n",
        "plt.xlabel('Epochs')\n",
        "plt.ylabel('Accuracy')\n",
        "plt.title('Testing Accuracy')\n",
        "plt.show()"
      ],
      "execution_count": 11,
      "outputs": [
        {
          "output_type": "display_data",
          "data": {
            "image/png": "[encoded data removed]",
            "text/plain": [
              "<Figure size 432x288 with 1 Axes>"
            ]
          },
          "metadata": {
            "needs_background": "light"
          }
        }
      ]
    }
  ]
}