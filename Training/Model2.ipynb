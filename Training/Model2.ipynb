{
 "cells": [
  {
   "cell_type": "markdown",
   "metadata": {
    "id": "hdmlMq7BBzoV"
   },
   "source": [
    "# Import Packages"
   ]
  },
  {
   "cell_type": "code",
   "execution_count": null,
   "metadata": {
    "id": "b2kQ-mhu-DZR"
   },
   "outputs": [],
   "source": [
    "import matplotlib.pyplot as plt"
   ]
  },
  {
   "cell_type": "markdown",
   "metadata": {
    "id": "1uiTvOH5BzUD"
   },
   "source": [
    "# Train Model"
   ]
  },
  {
   "cell_type": "code",
   "execution_count": null,
   "metadata": {
    "colab": {
     "base_uri": "https://localhost:8080/"
    },
    "id": "dHfxgD-_yZ3J",
    "outputId": "8435b85b-6fc6-4818-eea3-e7cc16ccc7b8"
   },
   "outputs": [
    {
     "name": "stdout",
     "output_type": "stream",
     "text": [
      "Torch device selected:  cuda\n",
      "Downloading http://yann.lecun.com/exdb/mnist/train-images-idx3-ubyte.gz\n",
      "Downloading http://yann.lecun.com/exdb/mnist/train-images-idx3-ubyte.gz to ./data/MNIST/raw/train-images-idx3-ubyte.gz\n",
      "9913344it [00:00, 66273577.16it/s]                 \n",
      "Extracting ./data/MNIST/raw/train-images-idx3-ubyte.gz to ./data/MNIST/raw\n",
      "\n",
      "Downloading http://yann.lecun.com/exdb/mnist/train-labels-idx1-ubyte.gz\n",
      "Downloading http://yann.lecun.com/exdb/mnist/train-labels-idx1-ubyte.gz to ./data/MNIST/raw/train-labels-idx1-ubyte.gz\n",
      "29696it [00:00, 36526114.83it/s]\n",
      "Extracting ./data/MNIST/raw/train-labels-idx1-ubyte.gz to ./data/MNIST/raw\n",
      "\n",
      "Downloading http://yann.lecun.com/exdb/mnist/t10k-images-idx3-ubyte.gz\n",
      "Downloading http://yann.lecun.com/exdb/mnist/t10k-images-idx3-ubyte.gz to ./data/MNIST/raw/t10k-images-idx3-ubyte.gz\n",
      "1649664it [00:00, 24837807.82it/s]\n",
      "Extracting ./data/MNIST/raw/t10k-images-idx3-ubyte.gz to ./data/MNIST/raw\n",
      "\n",
      "Downloading http://yann.lecun.com/exdb/mnist/t10k-labels-idx1-ubyte.gz\n",
      "Downloading http://yann.lecun.com/exdb/mnist/t10k-labels-idx1-ubyte.gz to ./data/MNIST/raw/t10k-labels-idx1-ubyte.gz\n",
      "5120it [00:00, 28864027.53it/s]\n",
      "Extracting ./data/MNIST/raw/t10k-labels-idx1-ubyte.gz to ./data/MNIST/raw\n",
      "\n",
      "/usr/local/lib/python3.7/dist-packages/torchvision/datasets/mnist.py:498: UserWarning: The given NumPy array is not writeable, and PyTorch does not support non-writeable tensors. This means you can write to the underlying (supposedly non-writeable) NumPy array using the tensor. You may want to copy the array to protect its data or make it writeable before converting it to a tensor. This type of warning will be suppressed for the rest of this program. (Triggered internally at  /pytorch/torch/csrc/utils/tensor_numpy.cpp:180.)\n",
      "  return torch.from_numpy(parsed.astype(m[2], copy=False)).view(*s)\n",
      "/usr/local/lib/python3.7/dist-packages/torch/utils/data/dataloader.py:481: UserWarning: This DataLoader will create 4 worker processes in total. Our suggested max number of worker in current system is 2, which is smaller than what this DataLoader is going to create. Please be aware that excessive worker creation might get DataLoader running slow or even freeze, lower the worker number to avoid potential slowness/freeze if necessary.\n",
      "  cpuset_checked))\n",
      "epoch :  1\n",
      "/usr/local/lib/python3.7/dist-packages/torch/nn/functional.py:718: UserWarning: Named tensors and all their associated APIs are an experimental feature and subject to change. Please do not use them for anything important until they are released as stable. (Triggered internally at  /pytorch/c10/core/TensorImpl.h:1156.)\n",
      "  return torch.max_pool2d(input, kernel_size, stride, padding, dilation, ceil_mode)\n",
      "/usr/local/lib/python3.7/dist-packages/torch/nn/functional.py:1805: UserWarning: nn.functional.sigmoid is deprecated. Use torch.sigmoid instead.\n",
      "  warnings.warn(\"nn.functional.sigmoid is deprecated. Use torch.sigmoid instead.\")\n",
      "Train set: Average loss: 0.1279, Accuracy: 57617/60000 (96%)\n",
      "\n",
      "\n",
      "Test set: Average loss: 0.0440, Accuracy: 9865/10000 (99%)\n",
      "\n",
      "epoch :  2\n",
      "Train set: Average loss: 0.0412, Accuracy: 59239/60000 (99%)\n",
      "\n",
      "\n",
      "Test set: Average loss: 0.0324, Accuracy: 9899/10000 (99%)\n",
      "\n",
      "epoch :  3\n",
      "Train set: Average loss: 0.0288, Accuracy: 59454/60000 (99%)\n",
      "\n",
      "\n",
      "Test set: Average loss: 0.0444, Accuracy: 9865/10000 (99%)\n",
      "\n",
      "epoch :  4\n",
      "Train set: Average loss: 0.0215, Accuracy: 59582/60000 (99%)\n",
      "\n",
      "\n",
      "Test set: Average loss: 0.0268, Accuracy: 9922/10000 (99%)\n",
      "\n",
      "epoch :  5\n",
      "Train set: Average loss: 0.0161, Accuracy: 59696/60000 (99%)\n",
      "\n",
      "\n",
      "Test set: Average loss: 0.0256, Accuracy: 9912/10000 (99%)\n",
      "\n",
      "epoch :  6\n",
      "Train set: Average loss: 0.0118, Accuracy: 59801/60000 (100%)\n",
      "\n",
      "\n",
      "Test set: Average loss: 0.0251, Accuracy: 9930/10000 (99%)\n",
      "\n",
      "epoch :  7\n",
      "Train set: Average loss: 0.0083, Accuracy: 59866/60000 (100%)\n",
      "\n",
      "\n",
      "Test set: Average loss: 0.0238, Accuracy: 9923/10000 (99%)\n",
      "\n",
      "epoch :  8\n",
      "Train set: Average loss: 0.0052, Accuracy: 59922/60000 (100%)\n",
      "\n",
      "\n",
      "Test set: Average loss: 0.0262, Accuracy: 9921/10000 (99%)\n",
      "\n",
      "epoch :  9\n",
      "Train set: Average loss: 0.0036, Accuracy: 59958/60000 (100%)\n",
      "\n",
      "\n",
      "Test set: Average loss: 0.0231, Accuracy: 9937/10000 (99%)\n",
      "\n",
      "epoch :  10\n",
      "Train set: Average loss: 0.0021, Accuracy: 59978/60000 (100%)\n",
      "\n",
      "\n",
      "Test set: Average loss: 0.0225, Accuracy: 9937/10000 (99%)\n",
      "\n",
      "epoch :  11\n",
      "Train set: Average loss: 0.0013, Accuracy: 59989/60000 (100%)\n",
      "\n",
      "\n",
      "Test set: Average loss: 0.0229, Accuracy: 9940/10000 (99%)\n",
      "\n",
      "epoch :  12\n",
      "Train set: Average loss: 0.0010, Accuracy: 59991/60000 (100%)\n",
      "\n",
      "\n",
      "Test set: Average loss: 0.0227, Accuracy: 9939/10000 (99%)\n",
      "\n",
      "epoch :  13\n",
      "Train set: Average loss: 0.0008, Accuracy: 59992/60000 (100%)\n",
      "\n",
      "\n",
      "Test set: Average loss: 0.0219, Accuracy: 9940/10000 (99%)\n",
      "\n",
      "epoch :  14\n",
      "Train set: Average loss: 0.0007, Accuracy: 59995/60000 (100%)\n",
      "\n",
      "\n",
      "Test set: Average loss: 0.0227, Accuracy: 9941/10000 (99%)\n",
      "\n",
      "epoch :  15\n",
      "Train set: Average loss: 0.0006, Accuracy: 59994/60000 (100%)\n",
      "\n",
      "\n",
      "Test set: Average loss: 0.0232, Accuracy: 9938/10000 (99%)\n",
      "\n",
      "epoch :  16\n",
      "Train set: Average loss: 0.0006, Accuracy: 59995/60000 (100%)\n",
      "\n",
      "\n",
      "Test set: Average loss: 0.0228, Accuracy: 9940/10000 (99%)\n",
      "\n",
      "epoch :  17\n",
      "Train set: Average loss: 0.0005, Accuracy: 59996/60000 (100%)\n",
      "\n",
      "\n",
      "Test set: Average loss: 0.0231, Accuracy: 9942/10000 (99%)\n",
      "\n",
      "epoch :  18\n",
      "Train set: Average loss: 0.0005, Accuracy: 59996/60000 (100%)\n",
      "\n",
      "\n",
      "Test set: Average loss: 0.0232, Accuracy: 9942/10000 (99%)\n",
      "\n",
      "epoch :  19\n",
      "Train set: Average loss: 0.0005, Accuracy: 59996/60000 (100%)\n",
      "\n",
      "\n",
      "Test set: Average loss: 0.0230, Accuracy: 9941/10000 (99%)\n",
      "\n",
      "epoch :  20\n",
      "Train set: Average loss: 0.0004, Accuracy: 59996/60000 (100%)\n",
      "\n",
      "\n",
      "Test set: Average loss: 0.0230, Accuracy: 9945/10000 (99%)\n",
      "\n",
      "epoch :  21\n",
      "Train set: Average loss: 0.0004, Accuracy: 59996/60000 (100%)\n",
      "\n",
      "\n",
      "Test set: Average loss: 0.0229, Accuracy: 9942/10000 (99%)\n",
      "\n",
      "epoch :  22\n",
      "Train set: Average loss: 0.0004, Accuracy: 59996/60000 (100%)\n",
      "\n",
      "\n",
      "Test set: Average loss: 0.0230, Accuracy: 9942/10000 (99%)\n",
      "\n",
      "epoch :  23\n",
      "Train set: Average loss: 0.0003, Accuracy: 59997/60000 (100%)\n",
      "\n",
      "\n",
      "Test set: Average loss: 0.0234, Accuracy: 9944/10000 (99%)\n",
      "\n",
      "epoch :  24\n",
      "Train set: Average loss: 0.0003, Accuracy: 59998/60000 (100%)\n",
      "\n",
      "\n",
      "Test set: Average loss: 0.0233, Accuracy: 9943/10000 (99%)\n",
      "\n",
      "epoch :  25\n",
      "Train set: Average loss: 0.0003, Accuracy: 59998/60000 (100%)\n",
      "\n",
      "\n",
      "Test set: Average loss: 0.0233, Accuracy: 9942/10000 (99%)\n",
      "\n",
      "epoch :  26\n",
      "Train set: Average loss: 0.0003, Accuracy: 59998/60000 (100%)\n",
      "\n",
      "\n",
      "Test set: Average loss: 0.0237, Accuracy: 9941/10000 (99%)\n",
      "\n",
      "epoch :  27\n",
      "Train set: Average loss: 0.0003, Accuracy: 59998/60000 (100%)\n",
      "\n",
      "\n",
      "Test set: Average loss: 0.0235, Accuracy: 9943/10000 (99%)\n",
      "\n",
      "epoch :  28\n",
      "Train set: Average loss: 0.0003, Accuracy: 59998/60000 (100%)\n",
      "\n",
      "\n",
      "Test set: Average loss: 0.0232, Accuracy: 9945/10000 (99%)\n",
      "\n",
      "epoch :  29\n",
      "Train set: Average loss: 0.0002, Accuracy: 59998/60000 (100%)\n",
      "\n",
      "\n",
      "Test set: Average loss: 0.0236, Accuracy: 9942/10000 (99%)\n",
      "\n",
      "epoch :  30\n",
      "Train set: Average loss: 0.0002, Accuracy: 59998/60000 (100%)\n",
      "\n",
      "\n",
      "Test set: Average loss: 0.0235, Accuracy: 9943/10000 (99%)\n",
      "\n",
      "epoch :  31\n",
      "Train set: Average loss: 0.0002, Accuracy: 59998/60000 (100%)\n",
      "\n",
      "\n",
      "Test set: Average loss: 0.0239, Accuracy: 9940/10000 (99%)\n",
      "\n",
      "epoch :  32\n",
      "Train set: Average loss: 0.0002, Accuracy: 59999/60000 (100%)\n",
      "\n",
      "\n",
      "Test set: Average loss: 0.0236, Accuracy: 9942/10000 (99%)\n",
      "\n",
      "epoch :  33\n",
      "Train set: Average loss: 0.0002, Accuracy: 59999/60000 (100%)\n",
      "\n",
      "\n",
      "Test set: Average loss: 0.0236, Accuracy: 9943/10000 (99%)\n",
      "\n",
      "epoch :  34\n",
      "Train set: Average loss: 0.0002, Accuracy: 59998/60000 (100%)\n",
      "\n",
      "\n",
      "Test set: Average loss: 0.0240, Accuracy: 9942/10000 (99%)\n",
      "\n",
      "epoch :  35\n",
      "Train set: Average loss: 0.0002, Accuracy: 59999/60000 (100%)\n",
      "\n",
      "\n",
      "Test set: Average loss: 0.0239, Accuracy: 9941/10000 (99%)\n",
      "\n",
      "epoch :  36\n",
      "Train set: Average loss: 0.0002, Accuracy: 60000/60000 (100%)\n",
      "\n",
      "\n",
      "Test set: Average loss: 0.0238, Accuracy: 9942/10000 (99%)\n",
      "\n",
      "epoch :  37\n",
      "Train set: Average loss: 0.0002, Accuracy: 60000/60000 (100%)\n",
      "\n",
      "\n",
      "Test set: Average loss: 0.0239, Accuracy: 9941/10000 (99%)\n",
      "\n",
      "epoch :  38\n",
      "Train set: Average loss: 0.0002, Accuracy: 60000/60000 (100%)\n",
      "\n",
      "\n",
      "Test set: Average loss: 0.0240, Accuracy: 9942/10000 (99%)\n",
      "\n",
      "epoch :  39\n",
      "Train set: Average loss: 0.0002, Accuracy: 60000/60000 (100%)\n",
      "\n",
      "\n",
      "Test set: Average loss: 0.0240, Accuracy: 9940/10000 (99%)\n",
      "\n",
      "epoch :  40\n",
      "Train set: Average loss: 0.0002, Accuracy: 60000/60000 (100%)\n",
      "\n",
      "\n",
      "Test set: Average loss: 0.0241, Accuracy: 9942/10000 (99%)\n",
      "\n",
      "epoch :  41\n",
      "Train set: Average loss: 0.0001, Accuracy: 60000/60000 (100%)\n",
      "\n",
      "\n",
      "Test set: Average loss: 0.0242, Accuracy: 9940/10000 (99%)\n",
      "\n",
      "epoch :  42\n",
      "Train set: Average loss: 0.0001, Accuracy: 60000/60000 (100%)\n",
      "\n",
      "\n",
      "Test set: Average loss: 0.0240, Accuracy: 9943/10000 (99%)\n",
      "\n",
      "epoch :  43\n",
      "Train set: Average loss: 0.0001, Accuracy: 60000/60000 (100%)\n",
      "\n",
      "\n",
      "Test set: Average loss: 0.0242, Accuracy: 9942/10000 (99%)\n",
      "\n",
      "epoch :  44\n",
      "Train set: Average loss: 0.0001, Accuracy: 60000/60000 (100%)\n",
      "\n",
      "\n",
      "Test set: Average loss: 0.0244, Accuracy: 9940/10000 (99%)\n",
      "\n",
      "epoch :  45\n",
      "Train set: Average loss: 0.0001, Accuracy: 60000/60000 (100%)\n",
      "\n",
      "\n",
      "Test set: Average loss: 0.0243, Accuracy: 9941/10000 (99%)\n",
      "\n",
      "epoch :  46\n",
      "Train set: Average loss: 0.0001, Accuracy: 60000/60000 (100%)\n",
      "\n",
      "\n",
      "Test set: Average loss: 0.0244, Accuracy: 9941/10000 (99%)\n",
      "\n",
      "epoch :  47\n",
      "Train set: Average loss: 0.0001, Accuracy: 60000/60000 (100%)\n",
      "\n",
      "\n",
      "Test set: Average loss: 0.0245, Accuracy: 9941/10000 (99%)\n",
      "\n",
      "epoch :  48\n",
      "Train set: Average loss: 0.0001, Accuracy: 60000/60000 (100%)\n",
      "\n",
      "\n",
      "Test set: Average loss: 0.0243, Accuracy: 9942/10000 (99%)\n",
      "\n",
      "epoch :  49\n",
      "Train set: Average loss: 0.0001, Accuracy: 60000/60000 (100%)\n",
      "\n",
      "\n",
      "Test set: Average loss: 0.0246, Accuracy: 9941/10000 (99%)\n",
      "\n",
      "epoch :  50\n",
      "Train set: Average loss: 0.0001, Accuracy: 60000/60000 (100%)\n",
      "\n",
      "\n",
      "Test set: Average loss: 0.0244, Accuracy: 9941/10000 (99%)\n",
      "\n",
      "epoch :  51\n",
      "Train set: Average loss: 0.0001, Accuracy: 60000/60000 (100%)\n",
      "\n",
      "\n",
      "Test set: Average loss: 0.0246, Accuracy: 9940/10000 (99%)\n",
      "\n",
      "epoch :  52\n",
      "Train set: Average loss: 0.0001, Accuracy: 60000/60000 (100%)\n",
      "\n",
      "\n",
      "Test set: Average loss: 0.0245, Accuracy: 9940/10000 (99%)\n",
      "\n",
      "epoch :  53\n",
      "Train set: Average loss: 0.0001, Accuracy: 60000/60000 (100%)\n",
      "\n",
      "\n",
      "Test set: Average loss: 0.0247, Accuracy: 9941/10000 (99%)\n",
      "\n",
      "epoch :  54\n",
      "Train set: Average loss: 0.0001, Accuracy: 60000/60000 (100%)\n",
      "\n",
      "\n",
      "Test set: Average loss: 0.0246, Accuracy: 9941/10000 (99%)\n",
      "\n",
      "epoch :  55\n",
      "Train set: Average loss: 0.0001, Accuracy: 60000/60000 (100%)\n",
      "\n",
      "\n",
      "Test set: Average loss: 0.0246, Accuracy: 9940/10000 (99%)\n",
      "\n",
      "epoch :  56\n",
      "Train set: Average loss: 0.0001, Accuracy: 60000/60000 (100%)\n",
      "\n",
      "\n",
      "Test set: Average loss: 0.0247, Accuracy: 9941/10000 (99%)\n",
      "\n",
      "epoch :  57\n",
      "Train set: Average loss: 0.0001, Accuracy: 60000/60000 (100%)\n",
      "\n",
      "\n",
      "Test set: Average loss: 0.0248, Accuracy: 9939/10000 (99%)\n",
      "\n",
      "epoch :  58\n",
      "Train set: Average loss: 0.0001, Accuracy: 60000/60000 (100%)\n",
      "\n",
      "\n",
      "Test set: Average loss: 0.0248, Accuracy: 9940/10000 (99%)\n",
      "\n",
      "epoch :  59\n",
      "Train set: Average loss: 0.0001, Accuracy: 60000/60000 (100%)\n",
      "\n",
      "\n",
      "Test set: Average loss: 0.0247, Accuracy: 9940/10000 (99%)\n",
      "\n",
      "epoch :  60\n",
      "Train set: Average loss: 0.0001, Accuracy: 60000/60000 (100%)\n",
      "\n",
      "\n",
      "Test set: Average loss: 0.0249, Accuracy: 9939/10000 (99%)\n",
      "\n",
      "accuracy is 99.45\n",
      "Training and evaluation finished\n"
     ]
    }
   ],
   "source": [
    "!python train_evaluate_CNN.py --mode 2 --learning_rate 0.1 --num_epochs 60 --batch_size 10"
   ]
  },
  {
   "cell_type": "markdown",
   "metadata": {
    "id": "cG2taQ2bB5Fq"
   },
   "source": [
    "# Plot Results"
   ]
  },
  {
   "cell_type": "code",
   "execution_count": null,
   "metadata": {
    "id": "tRY6ZXIQ-TDn"
   },
   "outputs": [],
   "source": [
    "my_file = open(\"train_loss.txt\", \"r\")\n",
    "content = my_file.read()\n",
    "train_loss = content.split(\"\\n\")\n",
    "my_file.close()\n",
    "train_loss = [float(train_loss[i]) for i in range(0,len(train_loss)-1)]"
   ]
  },
  {
   "cell_type": "code",
   "execution_count": null,
   "metadata": {
    "id": "tCbt8BuCBNSw"
   },
   "outputs": [],
   "source": [
    "my_file = open(\"test_loss.txt\", \"r\")\n",
    "content = my_file.read()\n",
    "test_loss = content.split(\"\\n\")\n",
    "my_file.close()\n",
    "test_loss = [float(test_loss[i]) for i in range(0,len(test_loss)-1)]"
   ]
  },
  {
   "cell_type": "code",
   "execution_count": null,
   "metadata": {
    "id": "SUua1VaCBN1r"
   },
   "outputs": [],
   "source": [
    "my_file = open(\"train_acc.txt\", \"r\")\n",
    "content = my_file.read()\n",
    "train_acc = content.split(\"\\n\")\n",
    "my_file.close()\n",
    "train_acc = [float(train_acc[i]) for i in range(0,len(train_acc)-1)]"
   ]
  },
  {
   "cell_type": "code",
   "execution_count": null,
   "metadata": {
    "id": "hhciAhlvBORe"
   },
   "outputs": [],
   "source": [
    "my_file = open(\"test_acc.txt\", \"r\")\n",
    "content = my_file.read()\n",
    "test_acc = content.split(\"\\n\")\n",
    "my_file.close()\n",
    "test_acc = [float(test_acc[i]) for i in range(0,len(test_acc)-1)]"
   ]
  },
  {
   "cell_type": "code",
   "execution_count": null,
   "metadata": {
    "id": "G_se5n4PBreM"
   },
   "outputs": [],
   "source": [
    "x = list(range(1,61))"
   ]
  },
  {
   "cell_type": "code",
   "execution_count": null,
   "metadata": {
    "colab": {
     "base_uri": "https://localhost:8080/",
     "height": 295
    },
    "id": "rIhmZ5KxCDu-",
    "outputId": "c9bcfbb3-ad49-4324-ab5a-6940784cd7c3"
   },
   "outputs": [
    {
     "data": {
      "image/png": "[encoded data removed]",
      "text/plain": [
       "<Figure size 432x288 with 1 Axes>"
      ]
     },
     "metadata": {
      "needs_background": "light"
     },
     "output_type": "display_data"
    }
   ],
   "source": [
    "plt.plot(x, train_loss)\n",
    "plt.xlabel('Epochs')\n",
    "plt.ylabel('Loss')\n",
    "plt.title('Training Loss')\n",
    "plt.show()"
   ]
  },
  {
   "cell_type": "code",
   "execution_count": null,
   "metadata": {
    "colab": {
     "base_uri": "https://localhost:8080/",
     "height": 295
    },
    "id": "oMOY7BpDChvs",
    "outputId": "b2bf9b48-34db-4ead-a90f-434b6f529bc8"
   },
   "outputs": [
    {
     "data": {
      "image/png": "[encoded data removed]",
      "text/plain": [
       "<Figure size 432x288 with 1 Axes>"
      ]
     },
     "metadata": {
      "needs_background": "light"
     },
     "output_type": "display_data"
    }
   ],
   "source": [
    "plt.plot(x, train_acc)\n",
    "plt.xlabel('Epochs')\n",
    "plt.ylabel('Accuracy')\n",
    "plt.title('Training Accuracy')\n",
    "plt.show()"
   ]
  },
  {
   "cell_type": "code",
   "execution_count": null,
   "metadata": {
    "colab": {
     "base_uri": "https://localhost:8080/",
     "height": 295
    },
    "id": "FRqC_JhaCiW9",
    "outputId": "790b4bd3-4b62-4688-efa0-8f89b093c9ae"
   },
   "outputs": [
    {
     "data": {
      "image/png": "[encoded data removed]",
      "text/plain": [
       "<Figure size 432x288 with 1 Axes>"
      ]
     },
     "metadata": {
      "needs_background": "light"
     },
     "output_type": "display_data"
    }
   ],
   "source": [
    "plt.plot(x, test_loss)\n",
    "plt.xlabel('Epochs')\n",
    "plt.ylabel('Loss')\n",
    "plt.title('Testing Loss')\n",
    "plt.show()"
   ]
  },
  {
   "cell_type": "code",
   "execution_count": null,
   "metadata": {
    "colab": {
     "base_uri": "https://localhost:8080/",
     "height": 295
    },
    "id": "6bjhcrI8Ciwb",
    "outputId": "83afda9e-5a49-4a0a-b6de-9c4b3a9bf6c0"
   },
   "outputs": [
    {
     "data": {
      "image/png": "[encoded data removed]",
      "text/plain": [
       "<Figure size 432x288 with 1 Axes>"
      ]
     },
     "metadata": {
      "needs_background": "light"
     },
     "output_type": "display_data"
    }
   ],
   "source": [
    "plt.plot(x, test_acc)\n",
    "plt.xlabel('Epochs')\n",
    "plt.ylabel('Accuracy')\n",
    "plt.title('Testing Accuracy')\n",
    "plt.show()"
   ]
  }
 ],
 "metadata": {
  "accelerator": "GPU",
  "colab": {
   "collapsed_sections": [
    "hdmlMq7BBzoV",
    "1uiTvOH5BzUD",
    "cG2taQ2bB5Fq"
   ],
   "name": "Model2.ipynb",
   "provenance": []
  },
  "kernelspec": {
   "display_name": "Python 3",
   "language": "python",
   "name": "python3"
  },
  "language_info": {
   "codemirror_mode": {
    "name": "ipython",
    "version": 3
   },
   "file_extension": ".py",
   "mimetype": "text/x-python",
   "name": "python",
   "nbconvert_exporter": "python",
   "pygments_lexer": "ipython3",
   "version": "3.8.6"
  }
 },
 "nbformat": 4,
 "nbformat_minor": 1
}
