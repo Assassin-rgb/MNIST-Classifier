{
 "cells": [
  {
   "cell_type": "markdown",
   "metadata": {
    "id": "hdmlMq7BBzoV"
   },
   "source": [
    "# Import Packages"
   ]
  },
  {
   "cell_type": "code",
   "execution_count": 1,
   "metadata": {
    "id": "b2kQ-mhu-DZR"
   },
   "outputs": [],
   "source": [
    "import matplotlib.pyplot as plt"
   ]
  },
  {
   "cell_type": "markdown",
   "metadata": {
    "id": "1uiTvOH5BzUD"
   },
   "source": [
    "# Train Model"
   ]
  },
  {
   "cell_type": "code",
   "execution_count": 2,
   "metadata": {
    "colab": {
     "base_uri": "https://localhost:8080/"
    },
    "id": "dHfxgD-_yZ3J",
    "outputId": "62e1fffe-33a7-4358-9dac-b18058859017"
   },
   "outputs": [
    {
     "name": "stdout",
     "output_type": "stream",
     "text": [
      "Torch device selected:  cuda\n",
      "/usr/local/lib/python3.7/dist-packages/torchvision/datasets/mnist.py:498: UserWarning: The given NumPy array is not writeable, and PyTorch does not support non-writeable tensors. This means you can write to the underlying (supposedly non-writeable) NumPy array using the tensor. You may want to copy the array to protect its data or make it writeable before converting it to a tensor. This type of warning will be suppressed for the rest of this program. (Triggered internally at  /pytorch/torch/csrc/utils/tensor_numpy.cpp:180.)\n",
      "  return torch.from_numpy(parsed.astype(m[2], copy=False)).view(*s)\n",
      "/usr/local/lib/python3.7/dist-packages/torch/utils/data/dataloader.py:481: UserWarning: This DataLoader will create 4 worker processes in total. Our suggested max number of worker in current system is 2, which is smaller than what this DataLoader is going to create. Please be aware that excessive worker creation might get DataLoader running slow or even freeze, lower the worker number to avoid potential slowness/freeze if necessary.\n",
      "  cpuset_checked))\n",
      "epoch :  1\n",
      "/usr/local/lib/python3.7/dist-packages/torch/nn/functional.py:718: UserWarning: Named tensors and all their associated APIs are an experimental feature and subject to change. Please do not use them for anything important until they are released as stable. (Triggered internally at  /pytorch/c10/core/TensorImpl.h:1156.)\n",
      "  return torch.max_pool2d(input, kernel_size, stride, padding, dilation, ceil_mode)\n",
      "Train set: Average loss: 0.1775, Accuracy: 56673/60000 (94%)\n",
      "\n",
      "\n",
      "Test set: Average loss: 0.0778, Accuracy: 9754/10000 (98%)\n",
      "\n",
      "epoch :  2\n",
      "Train set: Average loss: 0.0589, Accuracy: 58969/60000 (98%)\n",
      "\n",
      "\n",
      "Test set: Average loss: 0.0413, Accuracy: 9872/10000 (99%)\n",
      "\n",
      "epoch :  3\n",
      "Train set: Average loss: 0.0425, Accuracy: 59248/60000 (99%)\n",
      "\n",
      "\n",
      "Test set: Average loss: 0.0413, Accuracy: 9886/10000 (99%)\n",
      "\n",
      "epoch :  4\n",
      "Train set: Average loss: 0.0345, Accuracy: 59365/60000 (99%)\n",
      "\n",
      "\n",
      "Test set: Average loss: 0.0385, Accuracy: 9888/10000 (99%)\n",
      "\n",
      "epoch :  5\n",
      "Train set: Average loss: 0.0271, Accuracy: 59474/60000 (99%)\n",
      "\n",
      "\n",
      "Test set: Average loss: 0.0346, Accuracy: 9894/10000 (99%)\n",
      "\n",
      "epoch :  6\n",
      "Train set: Average loss: 0.0233, Accuracy: 59558/60000 (99%)\n",
      "\n",
      "\n",
      "Test set: Average loss: 0.0364, Accuracy: 9903/10000 (99%)\n",
      "\n",
      "epoch :  7\n",
      "Train set: Average loss: 0.0205, Accuracy: 59621/60000 (99%)\n",
      "\n",
      "\n",
      "Test set: Average loss: 0.0330, Accuracy: 9910/10000 (99%)\n",
      "\n",
      "epoch :  8\n",
      "Train set: Average loss: 0.0166, Accuracy: 59710/60000 (100%)\n",
      "\n",
      "\n",
      "Test set: Average loss: 0.0290, Accuracy: 9917/10000 (99%)\n",
      "\n",
      "epoch :  9\n",
      "Train set: Average loss: 0.0147, Accuracy: 59730/60000 (100%)\n",
      "\n",
      "\n",
      "Test set: Average loss: 0.0403, Accuracy: 9892/10000 (99%)\n",
      "\n",
      "epoch :  10\n",
      "Train set: Average loss: 0.0140, Accuracy: 59737/60000 (100%)\n",
      "\n",
      "\n",
      "Test set: Average loss: 0.0291, Accuracy: 9918/10000 (99%)\n",
      "\n",
      "epoch :  11\n",
      "Train set: Average loss: 0.0115, Accuracy: 59785/60000 (100%)\n",
      "\n",
      "\n",
      "Test set: Average loss: 0.0307, Accuracy: 9923/10000 (99%)\n",
      "\n",
      "epoch :  12\n",
      "Train set: Average loss: 0.0097, Accuracy: 59806/60000 (100%)\n",
      "\n",
      "\n",
      "Test set: Average loss: 0.0433, Accuracy: 9888/10000 (99%)\n",
      "\n",
      "epoch :  13\n",
      "Train set: Average loss: 0.0102, Accuracy: 59808/60000 (100%)\n",
      "\n",
      "\n",
      "Test set: Average loss: 0.0277, Accuracy: 9920/10000 (99%)\n",
      "\n",
      "epoch :  14\n",
      "Train set: Average loss: 0.0108, Accuracy: 59795/60000 (100%)\n",
      "\n",
      "\n",
      "Test set: Average loss: 0.0346, Accuracy: 9912/10000 (99%)\n",
      "\n",
      "epoch :  15\n",
      "Train set: Average loss: 0.0091, Accuracy: 59840/60000 (100%)\n",
      "\n",
      "\n",
      "Test set: Average loss: 0.0346, Accuracy: 9920/10000 (99%)\n",
      "\n",
      "epoch :  16\n",
      "Train set: Average loss: 0.0083, Accuracy: 59844/60000 (100%)\n",
      "\n",
      "\n",
      "Test set: Average loss: 0.0331, Accuracy: 9915/10000 (99%)\n",
      "\n",
      "epoch :  17\n",
      "Train set: Average loss: 0.0081, Accuracy: 59856/60000 (100%)\n",
      "\n",
      "\n",
      "Test set: Average loss: 0.0349, Accuracy: 9912/10000 (99%)\n",
      "\n",
      "epoch :  18\n",
      "Train set: Average loss: 0.0062, Accuracy: 59872/60000 (100%)\n",
      "\n",
      "\n",
      "Test set: Average loss: 0.0342, Accuracy: 9916/10000 (99%)\n",
      "\n",
      "epoch :  19\n",
      "Train set: Average loss: 0.0070, Accuracy: 59860/60000 (100%)\n",
      "\n",
      "\n",
      "Test set: Average loss: 0.0408, Accuracy: 9910/10000 (99%)\n",
      "\n",
      "epoch :  20\n",
      "Train set: Average loss: 0.0052, Accuracy: 59902/60000 (100%)\n",
      "\n",
      "\n",
      "Test set: Average loss: 0.0367, Accuracy: 9919/10000 (99%)\n",
      "\n",
      "epoch :  21\n",
      "Train set: Average loss: 0.0047, Accuracy: 59911/60000 (100%)\n",
      "\n",
      "\n",
      "Test set: Average loss: 0.0352, Accuracy: 9926/10000 (99%)\n",
      "\n",
      "epoch :  22\n",
      "Train set: Average loss: 0.0069, Accuracy: 59886/60000 (100%)\n",
      "\n",
      "\n",
      "Test set: Average loss: 0.0415, Accuracy: 9919/10000 (99%)\n",
      "\n",
      "epoch :  23\n",
      "Train set: Average loss: 0.0062, Accuracy: 59883/60000 (100%)\n",
      "\n",
      "\n",
      "Test set: Average loss: 0.0414, Accuracy: 9908/10000 (99%)\n",
      "\n",
      "epoch :  24\n",
      "Train set: Average loss: 0.0064, Accuracy: 59880/60000 (100%)\n",
      "\n",
      "\n",
      "Test set: Average loss: 0.0340, Accuracy: 9917/10000 (99%)\n",
      "\n",
      "epoch :  25\n",
      "Train set: Average loss: 0.0052, Accuracy: 59905/60000 (100%)\n",
      "\n",
      "\n",
      "Test set: Average loss: 0.0451, Accuracy: 9898/10000 (99%)\n",
      "\n",
      "epoch :  26\n",
      "Train set: Average loss: 0.0051, Accuracy: 59907/60000 (100%)\n",
      "\n",
      "\n",
      "Test set: Average loss: 0.0384, Accuracy: 9911/10000 (99%)\n",
      "\n",
      "epoch :  27\n",
      "Train set: Average loss: 0.0051, Accuracy: 59905/60000 (100%)\n",
      "\n",
      "\n",
      "Test set: Average loss: 0.0392, Accuracy: 9914/10000 (99%)\n",
      "\n",
      "epoch :  28\n",
      "Train set: Average loss: 0.0034, Accuracy: 59936/60000 (100%)\n",
      "\n",
      "\n",
      "Test set: Average loss: 0.0520, Accuracy: 9896/10000 (99%)\n",
      "\n",
      "epoch :  29\n",
      "Train set: Average loss: 0.0048, Accuracy: 59907/60000 (100%)\n",
      "\n",
      "\n",
      "Test set: Average loss: 0.0613, Accuracy: 9894/10000 (99%)\n",
      "\n",
      "epoch :  30\n",
      "Train set: Average loss: 0.0051, Accuracy: 59912/60000 (100%)\n",
      "\n",
      "\n",
      "Test set: Average loss: 0.0542, Accuracy: 9908/10000 (99%)\n",
      "\n",
      "epoch :  31\n",
      "Train set: Average loss: 0.0052, Accuracy: 59893/60000 (100%)\n",
      "\n",
      "\n",
      "Test set: Average loss: 0.0477, Accuracy: 9914/10000 (99%)\n",
      "\n",
      "epoch :  32\n",
      "Train set: Average loss: 0.0049, Accuracy: 59908/60000 (100%)\n",
      "\n",
      "\n",
      "Test set: Average loss: 0.0379, Accuracy: 9924/10000 (99%)\n",
      "\n",
      "epoch :  33\n",
      "Train set: Average loss: 0.0061, Accuracy: 59887/60000 (100%)\n",
      "\n",
      "\n",
      "Test set: Average loss: 0.0454, Accuracy: 9904/10000 (99%)\n",
      "\n",
      "epoch :  34\n",
      "Train set: Average loss: 0.0039, Accuracy: 59927/60000 (100%)\n",
      "\n",
      "\n",
      "Test set: Average loss: 0.0402, Accuracy: 9916/10000 (99%)\n",
      "\n",
      "epoch :  35\n",
      "Train set: Average loss: 0.0041, Accuracy: 59927/60000 (100%)\n",
      "\n",
      "\n",
      "Test set: Average loss: 0.0478, Accuracy: 9915/10000 (99%)\n",
      "\n",
      "epoch :  36\n",
      "Train set: Average loss: 0.0034, Accuracy: 59936/60000 (100%)\n",
      "\n",
      "\n",
      "Test set: Average loss: 0.0542, Accuracy: 9904/10000 (99%)\n",
      "\n",
      "epoch :  37\n",
      "Train set: Average loss: 0.0053, Accuracy: 59904/60000 (100%)\n",
      "\n",
      "\n",
      "Test set: Average loss: 0.0447, Accuracy: 9922/10000 (99%)\n",
      "\n",
      "epoch :  38\n",
      "Train set: Average loss: 0.0021, Accuracy: 59969/60000 (100%)\n",
      "\n",
      "\n",
      "Test set: Average loss: 0.0413, Accuracy: 9923/10000 (99%)\n",
      "\n",
      "epoch :  39\n",
      "Train set: Average loss: 0.0021, Accuracy: 59963/60000 (100%)\n",
      "\n",
      "\n",
      "Test set: Average loss: 0.0404, Accuracy: 9926/10000 (99%)\n",
      "\n",
      "epoch :  40\n",
      "Train set: Average loss: 0.0022, Accuracy: 59961/60000 (100%)\n",
      "\n",
      "\n",
      "Test set: Average loss: 0.0438, Accuracy: 9907/10000 (99%)\n",
      "\n",
      "accuracy is 99.26\n",
      "Training and evaluation finished\n"
     ]
    }
   ],
   "source": [
    "!python train_evaluate_CNN.py --mode 5 --learning_rate 0.03 --num_epochs 40 --batch_size 10"
   ]
  },
  {
   "cell_type": "markdown",
   "metadata": {
    "id": "cG2taQ2bB5Fq"
   },
   "source": [
    "# Plot Results"
   ]
  },
  {
   "cell_type": "code",
   "execution_count": 3,
   "metadata": {
    "id": "tRY6ZXIQ-TDn"
   },
   "outputs": [],
   "source": [
    "my_file = open(\"train_loss.txt\", \"r\")\n",
    "content = my_file.read()\n",
    "train_loss = content.split(\"\\n\")\n",
    "my_file.close()\n",
    "train_loss = [float(train_loss[i]) for i in range(0,len(train_loss)-1)]"
   ]
  },
  {
   "cell_type": "code",
   "execution_count": 4,
   "metadata": {
    "id": "tCbt8BuCBNSw"
   },
   "outputs": [],
   "source": [
    "my_file = open(\"test_loss.txt\", \"r\")\n",
    "content = my_file.read()\n",
    "test_loss = content.split(\"\\n\")\n",
    "my_file.close()\n",
    "test_loss = [float(test_loss[i]) for i in range(0,len(test_loss)-1)]"
   ]
  },
  {
   "cell_type": "code",
   "execution_count": 5,
   "metadata": {
    "id": "SUua1VaCBN1r"
   },
   "outputs": [],
   "source": [
    "my_file = open(\"train_acc.txt\", \"r\")\n",
    "content = my_file.read()\n",
    "train_acc = content.split(\"\\n\")\n",
    "my_file.close()\n",
    "train_acc = [float(train_acc[i]) for i in range(0,len(train_acc)-1)]"
   ]
  },
  {
   "cell_type": "code",
   "execution_count": 6,
   "metadata": {
    "id": "hhciAhlvBORe"
   },
   "outputs": [],
   "source": [
    "my_file = open(\"test_acc.txt\", \"r\")\n",
    "content = my_file.read()\n",
    "test_acc = content.split(\"\\n\")\n",
    "my_file.close()\n",
    "test_acc = [float(test_acc[i]) for i in range(0,len(test_acc)-1)]"
   ]
  },
  {
   "cell_type": "code",
   "execution_count": 7,
   "metadata": {
    "id": "G_se5n4PBreM"
   },
   "outputs": [],
   "source": [
    "x = list(range(1,41))"
   ]
  },
  {
   "cell_type": "code",
   "execution_count": 8,
   "metadata": {
    "colab": {
     "base_uri": "https://localhost:8080/",
     "height": 295
    },
    "id": "rIhmZ5KxCDu-",
    "outputId": "c6edea66-68f4-4e20-ab22-a626e80ebc6a"
   },
   "outputs": [
    {
     "data": {
      "image/png": "[encoded data removed]",
      "text/plain": [
       "<Figure size 432x288 with 1 Axes>"
      ]
     },
     "metadata": {
      "needs_background": "light"
     },
     "output_type": "display_data"
    }
   ],
   "source": [
    "plt.plot(x, train_loss)\n",
    "plt.xlabel('Epochs')\n",
    "plt.ylabel('Loss')\n",
    "plt.title('Training Loss')\n",
    "plt.show()"
   ]
  },
  {
   "cell_type": "code",
   "execution_count": 9,
   "metadata": {
    "colab": {
     "base_uri": "https://localhost:8080/",
     "height": 295
    },
    "id": "oMOY7BpDChvs",
    "outputId": "bc82e3f8-71d3-4eea-aaa5-669829dd05d7"
   },
   "outputs": [
    {
     "data": {
      "image/png": "[encoded data removed]",
      "text/plain": [
       "<Figure size 432x288 with 1 Axes>"
      ]
     },
     "metadata": {
      "needs_background": "light"
     },
     "output_type": "display_data"
    }
   ],
   "source": [
    "plt.plot(x, train_acc)\n",
    "plt.xlabel('Epochs')\n",
    "plt.ylabel('Accuracy')\n",
    "plt.title('Training Accuracy')\n",
    "plt.show()"
   ]
  },
  {
   "cell_type": "code",
   "execution_count": 10,
   "metadata": {
    "colab": {
     "base_uri": "https://localhost:8080/",
     "height": 295
    },
    "id": "FRqC_JhaCiW9",
    "outputId": "0ce2f7a0-d580-4f40-9816-724f028f93c5"
   },
   "outputs": [
    {
     "data": {
      "image/png": "[encoded data removed]",
      "text/plain": [
       "<Figure size 432x288 with 1 Axes>"
      ]
     },
     "metadata": {
      "needs_background": "light"
     },
     "output_type": "display_data"
    }
   ],
   "source": [
    "plt.plot(x, test_loss)\n",
    "plt.xlabel('Epochs')\n",
    "plt.ylabel('Loss')\n",
    "plt.title('Testing Loss')\n",
    "plt.show()"
   ]
  },
  {
   "cell_type": "code",
   "execution_count": 11,
   "metadata": {
    "colab": {
     "base_uri": "https://localhost:8080/",
     "height": 295
    },
    "id": "6bjhcrI8Ciwb",
    "outputId": "18adfe65-fa0a-42bc-ebb9-60b9f8327f20"
   },
   "outputs": [
    {
     "data": {
      "image/png": "[encoded data removed]",
      "text/plain": [
       "<Figure size 432x288 with 1 Axes>"
      ]
     },
     "metadata": {
      "needs_background": "light"
     },
     "output_type": "display_data"
    }
   ],
   "source": [
    "plt.plot(x, test_acc)\n",
    "plt.xlabel('Epochs')\n",
    "plt.ylabel('Accuracy')\n",
    "plt.title('Testing Accuracy')\n",
    "plt.show()"
   ]
  }
 ],
 "metadata": {
  "accelerator": "GPU",
  "colab": {
   "collapsed_sections": [
    "hdmlMq7BBzoV",
    "1uiTvOH5BzUD",
    "cG2taQ2bB5Fq"
   ],
   "name": "Model5.ipynb",
   "provenance": []
  },
  "kernelspec": {
   "display_name": "Python 3",
   "language": "python",
   "name": "python3"
  },
  "language_info": {
   "codemirror_mode": {
    "name": "ipython",
    "version": 3
   },
   "file_extension": ".py",
   "mimetype": "text/x-python",
   "name": "python",
   "nbconvert_exporter": "python",
   "pygments_lexer": "ipython3",
   "version": "3.8.6"
  }
 },
 "nbformat": 4,
 "nbformat_minor": 1
}
