{
 "cells": [
  {
   "cell_type": "markdown",
   "metadata": {
    "id": "hdmlMq7BBzoV"
   },
   "source": [
    "# Import Packages"
   ]
  },
  {
   "cell_type": "code",
   "execution_count": 1,
   "metadata": {
    "id": "b2kQ-mhu-DZR"
   },
   "outputs": [],
   "source": [
    "import matplotlib.pyplot as plt"
   ]
  },
  {
   "cell_type": "markdown",
   "metadata": {
    "id": "1uiTvOH5BzUD"
   },
   "source": [
    "# Train Model"
   ]
  },
  {
   "cell_type": "code",
   "execution_count": 2,
   "metadata": {
    "colab": {
     "base_uri": "https://localhost:8080/"
    },
    "id": "dHfxgD-_yZ3J",
    "outputId": "8fe06ab6-51ef-44d0-924f-0e8383b24bc5"
   },
   "outputs": [
    {
     "name": "stdout",
     "output_type": "stream",
     "text": [
      "Torch device selected:  cuda\n",
      "Downloading http://yann.lecun.com/exdb/mnist/train-images-idx3-ubyte.gz\n",
      "Downloading http://yann.lecun.com/exdb/mnist/train-images-idx3-ubyte.gz to ./data/MNIST/raw/train-images-idx3-ubyte.gz\n",
      "9913344it [00:00, 59649328.39it/s]                 \n",
      "Extracting ./data/MNIST/raw/train-images-idx3-ubyte.gz to ./data/MNIST/raw\n",
      "\n",
      "Downloading http://yann.lecun.com/exdb/mnist/train-labels-idx1-ubyte.gz\n",
      "Downloading http://yann.lecun.com/exdb/mnist/train-labels-idx1-ubyte.gz to ./data/MNIST/raw/train-labels-idx1-ubyte.gz\n",
      "29696it [00:00, 49211399.28it/s]\n",
      "Extracting ./data/MNIST/raw/train-labels-idx1-ubyte.gz to ./data/MNIST/raw\n",
      "\n",
      "Downloading http://yann.lecun.com/exdb/mnist/t10k-images-idx3-ubyte.gz\n",
      "Downloading http://yann.lecun.com/exdb/mnist/t10k-images-idx3-ubyte.gz to ./data/MNIST/raw/t10k-images-idx3-ubyte.gz\n",
      "1649664it [00:00, 26248633.60it/s]\n",
      "Extracting ./data/MNIST/raw/t10k-images-idx3-ubyte.gz to ./data/MNIST/raw\n",
      "\n",
      "Downloading http://yann.lecun.com/exdb/mnist/t10k-labels-idx1-ubyte.gz\n",
      "Downloading http://yann.lecun.com/exdb/mnist/t10k-labels-idx1-ubyte.gz to ./data/MNIST/raw/t10k-labels-idx1-ubyte.gz\n",
      "5120it [00:00, 25656913.36it/s]\n",
      "Extracting ./data/MNIST/raw/t10k-labels-idx1-ubyte.gz to ./data/MNIST/raw\n",
      "\n",
      "/usr/local/lib/python3.7/dist-packages/torchvision/datasets/mnist.py:498: UserWarning: The given NumPy array is not writeable, and PyTorch does not support non-writeable tensors. This means you can write to the underlying (supposedly non-writeable) NumPy array using the tensor. You may want to copy the array to protect its data or make it writeable before converting it to a tensor. This type of warning will be suppressed for the rest of this program. (Triggered internally at  /pytorch/torch/csrc/utils/tensor_numpy.cpp:180.)\n",
      "  return torch.from_numpy(parsed.astype(m[2], copy=False)).view(*s)\n",
      "/usr/local/lib/python3.7/dist-packages/torch/utils/data/dataloader.py:481: UserWarning: This DataLoader will create 4 worker processes in total. Our suggested max number of worker in current system is 2, which is smaller than what this DataLoader is going to create. Please be aware that excessive worker creation might get DataLoader running slow or even freeze, lower the worker number to avoid potential slowness/freeze if necessary.\n",
      "  cpuset_checked))\n",
      "epoch :  1\n",
      "/usr/local/lib/python3.7/dist-packages/torch/nn/functional.py:718: UserWarning: Named tensors and all their associated APIs are an experimental feature and subject to change. Please do not use them for anything important until they are released as stable. (Triggered internally at  /pytorch/c10/core/TensorImpl.h:1156.)\n",
      "  return torch.max_pool2d(input, kernel_size, stride, padding, dilation, ceil_mode)\n",
      "Train set: Average loss: 0.1299, Accuracy: 57524/60000 (96%)\n",
      "\n",
      "\n",
      "Test set: Average loss: 0.0338, Accuracy: 9890/10000 (99%)\n",
      "\n",
      "epoch :  2\n",
      "Train set: Average loss: 0.0415, Accuracy: 59251/60000 (99%)\n",
      "\n",
      "\n",
      "Test set: Average loss: 0.0281, Accuracy: 9910/10000 (99%)\n",
      "\n",
      "epoch :  3\n",
      "Train set: Average loss: 0.0288, Accuracy: 59445/60000 (99%)\n",
      "\n",
      "\n",
      "Test set: Average loss: 0.0305, Accuracy: 9887/10000 (99%)\n",
      "\n",
      "epoch :  4\n",
      "Train set: Average loss: 0.0207, Accuracy: 59595/60000 (99%)\n",
      "\n",
      "\n",
      "Test set: Average loss: 0.0267, Accuracy: 9919/10000 (99%)\n",
      "\n",
      "epoch :  5\n",
      "Train set: Average loss: 0.0165, Accuracy: 59669/60000 (99%)\n",
      "\n",
      "\n",
      "Test set: Average loss: 0.0278, Accuracy: 9919/10000 (99%)\n",
      "\n",
      "epoch :  6\n",
      "Train set: Average loss: 0.0115, Accuracy: 59785/60000 (100%)\n",
      "\n",
      "\n",
      "Test set: Average loss: 0.0287, Accuracy: 9915/10000 (99%)\n",
      "\n",
      "epoch :  7\n",
      "Train set: Average loss: 0.0091, Accuracy: 59822/60000 (100%)\n",
      "\n",
      "\n",
      "Test set: Average loss: 0.0324, Accuracy: 9907/10000 (99%)\n",
      "\n",
      "epoch :  8\n",
      "Train set: Average loss: 0.0080, Accuracy: 59850/60000 (100%)\n",
      "\n",
      "\n",
      "Test set: Average loss: 0.0325, Accuracy: 9902/10000 (99%)\n",
      "\n",
      "epoch :  9\n",
      "Train set: Average loss: 0.0072, Accuracy: 59866/60000 (100%)\n",
      "\n",
      "\n",
      "Test set: Average loss: 0.0344, Accuracy: 9903/10000 (99%)\n",
      "\n",
      "epoch :  10\n",
      "Train set: Average loss: 0.0042, Accuracy: 59922/60000 (100%)\n",
      "\n",
      "\n",
      "Test set: Average loss: 0.0495, Accuracy: 9881/10000 (99%)\n",
      "\n",
      "epoch :  11\n",
      "Train set: Average loss: 0.0041, Accuracy: 59912/60000 (100%)\n",
      "\n",
      "\n",
      "Test set: Average loss: 0.0323, Accuracy: 9926/10000 (99%)\n",
      "\n",
      "epoch :  12\n",
      "Train set: Average loss: 0.0032, Accuracy: 59940/60000 (100%)\n",
      "\n",
      "\n",
      "Test set: Average loss: 0.0382, Accuracy: 9910/10000 (99%)\n",
      "\n",
      "epoch :  13\n",
      "Train set: Average loss: 0.0021, Accuracy: 59957/60000 (100%)\n",
      "\n",
      "\n",
      "Test set: Average loss: 0.0350, Accuracy: 9925/10000 (99%)\n",
      "\n",
      "epoch :  14\n",
      "Train set: Average loss: 0.0007, Accuracy: 59988/60000 (100%)\n",
      "\n",
      "\n",
      "Test set: Average loss: 0.0342, Accuracy: 9925/10000 (99%)\n",
      "\n",
      "epoch :  15\n",
      "Train set: Average loss: 0.0007, Accuracy: 59983/60000 (100%)\n",
      "\n",
      "\n",
      "Test set: Average loss: 0.0328, Accuracy: 9930/10000 (99%)\n",
      "\n",
      "epoch :  16\n",
      "Train set: Average loss: 0.0003, Accuracy: 59996/60000 (100%)\n",
      "\n",
      "\n",
      "Test set: Average loss: 0.0348, Accuracy: 9929/10000 (99%)\n",
      "\n",
      "epoch :  17\n",
      "Train set: Average loss: 0.0001, Accuracy: 59999/60000 (100%)\n",
      "\n",
      "\n",
      "Test set: Average loss: 0.0330, Accuracy: 9932/10000 (99%)\n",
      "\n",
      "epoch :  18\n",
      "Train set: Average loss: 0.0001, Accuracy: 59999/60000 (100%)\n",
      "\n",
      "\n",
      "Test set: Average loss: 0.0337, Accuracy: 9931/10000 (99%)\n",
      "\n",
      "epoch :  19\n",
      "Train set: Average loss: 0.0002, Accuracy: 59997/60000 (100%)\n",
      "\n",
      "\n",
      "Test set: Average loss: 0.0340, Accuracy: 9929/10000 (99%)\n",
      "\n",
      "epoch :  20\n",
      "Train set: Average loss: 0.0000, Accuracy: 60000/60000 (100%)\n",
      "\n",
      "\n",
      "Test set: Average loss: 0.0340, Accuracy: 9930/10000 (99%)\n",
      "\n",
      "epoch :  21\n",
      "Train set: Average loss: 0.0000, Accuracy: 60000/60000 (100%)\n",
      "\n",
      "\n",
      "Test set: Average loss: 0.0345, Accuracy: 9929/10000 (99%)\n",
      "\n",
      "epoch :  22\n",
      "Train set: Average loss: 0.0000, Accuracy: 60000/60000 (100%)\n",
      "\n",
      "\n",
      "Test set: Average loss: 0.0349, Accuracy: 9930/10000 (99%)\n",
      "\n",
      "epoch :  23\n",
      "Train set: Average loss: 0.0000, Accuracy: 60000/60000 (100%)\n",
      "\n",
      "\n",
      "Test set: Average loss: 0.0352, Accuracy: 9931/10000 (99%)\n",
      "\n",
      "epoch :  24\n",
      "Train set: Average loss: 0.0000, Accuracy: 60000/60000 (100%)\n",
      "\n",
      "\n",
      "Test set: Average loss: 0.0354, Accuracy: 9931/10000 (99%)\n",
      "\n",
      "epoch :  25\n",
      "Train set: Average loss: 0.0000, Accuracy: 60000/60000 (100%)\n",
      "\n",
      "\n",
      "Test set: Average loss: 0.0355, Accuracy: 9932/10000 (99%)\n",
      "\n",
      "epoch :  26\n",
      "Train set: Average loss: 0.0000, Accuracy: 60000/60000 (100%)\n",
      "\n",
      "\n",
      "Test set: Average loss: 0.0358, Accuracy: 9931/10000 (99%)\n",
      "\n",
      "epoch :  27\n",
      "Train set: Average loss: 0.0000, Accuracy: 60000/60000 (100%)\n",
      "\n",
      "\n",
      "Test set: Average loss: 0.0360, Accuracy: 9931/10000 (99%)\n",
      "\n",
      "epoch :  28\n",
      "Train set: Average loss: 0.0000, Accuracy: 60000/60000 (100%)\n",
      "\n",
      "\n",
      "Test set: Average loss: 0.0361, Accuracy: 9931/10000 (99%)\n",
      "\n",
      "epoch :  29\n",
      "Train set: Average loss: 0.0000, Accuracy: 60000/60000 (100%)\n",
      "\n",
      "\n",
      "Test set: Average loss: 0.0362, Accuracy: 9931/10000 (99%)\n",
      "\n",
      "epoch :  30\n",
      "Train set: Average loss: 0.0000, Accuracy: 60000/60000 (100%)\n",
      "\n",
      "\n",
      "Test set: Average loss: 0.0365, Accuracy: 9931/10000 (99%)\n",
      "\n",
      "epoch :  31\n",
      "Train set: Average loss: 0.0000, Accuracy: 60000/60000 (100%)\n",
      "\n",
      "\n",
      "Test set: Average loss: 0.0366, Accuracy: 9931/10000 (99%)\n",
      "\n",
      "epoch :  32\n",
      "Train set: Average loss: 0.0000, Accuracy: 60000/60000 (100%)\n",
      "\n",
      "\n",
      "Test set: Average loss: 0.0367, Accuracy: 9931/10000 (99%)\n",
      "\n",
      "epoch :  33\n",
      "Train set: Average loss: 0.0000, Accuracy: 60000/60000 (100%)\n",
      "\n",
      "\n",
      "Test set: Average loss: 0.0368, Accuracy: 9931/10000 (99%)\n",
      "\n",
      "epoch :  34\n",
      "Train set: Average loss: 0.0000, Accuracy: 60000/60000 (100%)\n",
      "\n",
      "\n",
      "Test set: Average loss: 0.0368, Accuracy: 9931/10000 (99%)\n",
      "\n",
      "epoch :  35\n",
      "Train set: Average loss: 0.0000, Accuracy: 60000/60000 (100%)\n",
      "\n",
      "\n",
      "Test set: Average loss: 0.0370, Accuracy: 9932/10000 (99%)\n",
      "\n",
      "epoch :  36\n",
      "Train set: Average loss: 0.0000, Accuracy: 60000/60000 (100%)\n",
      "\n",
      "\n",
      "Test set: Average loss: 0.0372, Accuracy: 9930/10000 (99%)\n",
      "\n",
      "epoch :  37\n",
      "Train set: Average loss: 0.0000, Accuracy: 60000/60000 (100%)\n",
      "\n",
      "\n",
      "Test set: Average loss: 0.0373, Accuracy: 9932/10000 (99%)\n",
      "\n",
      "epoch :  38\n",
      "Train set: Average loss: 0.0000, Accuracy: 60000/60000 (100%)\n",
      "\n",
      "\n",
      "Test set: Average loss: 0.0374, Accuracy: 9932/10000 (99%)\n",
      "\n",
      "epoch :  39\n",
      "Train set: Average loss: 0.0000, Accuracy: 60000/60000 (100%)\n",
      "\n",
      "\n",
      "Test set: Average loss: 0.0375, Accuracy: 9932/10000 (99%)\n",
      "\n",
      "epoch :  40\n",
      "Train set: Average loss: 0.0000, Accuracy: 60000/60000 (100%)\n",
      "\n",
      "\n",
      "Test set: Average loss: 0.0376, Accuracy: 9931/10000 (99%)\n",
      "\n",
      "epoch :  41\n",
      "Train set: Average loss: 0.0000, Accuracy: 60000/60000 (100%)\n",
      "\n",
      "\n",
      "Test set: Average loss: 0.0376, Accuracy: 9932/10000 (99%)\n",
      "\n",
      "epoch :  42\n",
      "Train set: Average loss: 0.0000, Accuracy: 60000/60000 (100%)\n",
      "\n",
      "\n",
      "Test set: Average loss: 0.0377, Accuracy: 9931/10000 (99%)\n",
      "\n",
      "epoch :  43\n",
      "Train set: Average loss: 0.0000, Accuracy: 60000/60000 (100%)\n",
      "\n",
      "\n",
      "Test set: Average loss: 0.0378, Accuracy: 9931/10000 (99%)\n",
      "\n",
      "epoch :  44\n",
      "Train set: Average loss: 0.0000, Accuracy: 60000/60000 (100%)\n",
      "\n",
      "\n",
      "Test set: Average loss: 0.0379, Accuracy: 9930/10000 (99%)\n",
      "\n",
      "epoch :  45\n",
      "Train set: Average loss: 0.0000, Accuracy: 60000/60000 (100%)\n",
      "\n",
      "\n",
      "Test set: Average loss: 0.0380, Accuracy: 9930/10000 (99%)\n",
      "\n",
      "epoch :  46\n",
      "Train set: Average loss: 0.0000, Accuracy: 60000/60000 (100%)\n",
      "\n",
      "\n",
      "Test set: Average loss: 0.0380, Accuracy: 9930/10000 (99%)\n",
      "\n",
      "epoch :  47\n",
      "Train set: Average loss: 0.0000, Accuracy: 60000/60000 (100%)\n",
      "\n",
      "\n",
      "Test set: Average loss: 0.0381, Accuracy: 9930/10000 (99%)\n",
      "\n",
      "epoch :  48\n",
      "Train set: Average loss: 0.0000, Accuracy: 60000/60000 (100%)\n",
      "\n",
      "\n",
      "Test set: Average loss: 0.0383, Accuracy: 9930/10000 (99%)\n",
      "\n",
      "epoch :  49\n",
      "Train set: Average loss: 0.0000, Accuracy: 60000/60000 (100%)\n",
      "\n",
      "\n",
      "Test set: Average loss: 0.0384, Accuracy: 9930/10000 (99%)\n",
      "\n",
      "epoch :  50\n",
      "Train set: Average loss: 0.0000, Accuracy: 60000/60000 (100%)\n",
      "\n",
      "\n",
      "Test set: Average loss: 0.0384, Accuracy: 9930/10000 (99%)\n",
      "\n",
      "epoch :  51\n",
      "Train set: Average loss: 0.0000, Accuracy: 60000/60000 (100%)\n",
      "\n",
      "\n",
      "Test set: Average loss: 0.0385, Accuracy: 9930/10000 (99%)\n",
      "\n",
      "epoch :  52\n",
      "Train set: Average loss: 0.0000, Accuracy: 60000/60000 (100%)\n",
      "\n",
      "\n",
      "Test set: Average loss: 0.0385, Accuracy: 9931/10000 (99%)\n",
      "\n",
      "epoch :  53\n",
      "Train set: Average loss: 0.0000, Accuracy: 60000/60000 (100%)\n",
      "\n",
      "\n",
      "Test set: Average loss: 0.0386, Accuracy: 9931/10000 (99%)\n",
      "\n",
      "epoch :  54\n",
      "Train set: Average loss: 0.0000, Accuracy: 60000/60000 (100%)\n",
      "\n",
      "\n",
      "Test set: Average loss: 0.0387, Accuracy: 9930/10000 (99%)\n",
      "\n",
      "epoch :  55\n",
      "Train set: Average loss: 0.0000, Accuracy: 60000/60000 (100%)\n",
      "\n",
      "\n",
      "Test set: Average loss: 0.0388, Accuracy: 9932/10000 (99%)\n",
      "\n",
      "epoch :  56\n",
      "Train set: Average loss: 0.0000, Accuracy: 60000/60000 (100%)\n",
      "\n",
      "\n",
      "Test set: Average loss: 0.0389, Accuracy: 9930/10000 (99%)\n",
      "\n",
      "epoch :  57\n",
      "Train set: Average loss: 0.0000, Accuracy: 60000/60000 (100%)\n",
      "\n",
      "\n",
      "Test set: Average loss: 0.0389, Accuracy: 9932/10000 (99%)\n",
      "\n",
      "epoch :  58\n",
      "Train set: Average loss: 0.0000, Accuracy: 60000/60000 (100%)\n",
      "\n",
      "\n",
      "Test set: Average loss: 0.0390, Accuracy: 9932/10000 (99%)\n",
      "\n",
      "epoch :  59\n",
      "Train set: Average loss: 0.0000, Accuracy: 60000/60000 (100%)\n",
      "\n",
      "\n",
      "Test set: Average loss: 0.0390, Accuracy: 9932/10000 (99%)\n",
      "\n",
      "epoch :  60\n",
      "Train set: Average loss: 0.0000, Accuracy: 60000/60000 (100%)\n",
      "\n",
      "\n",
      "Test set: Average loss: 0.0391, Accuracy: 9932/10000 (99%)\n",
      "\n",
      "accuracy is 99.32\n",
      "Training and evaluation finished\n"
     ]
    }
   ],
   "source": [
    "!python train_evaluate_CNN.py --mode 3 --learning_rate 0.03 --num_epochs 60 --batch_size 10"
   ]
  },
  {
   "cell_type": "markdown",
   "metadata": {
    "id": "cG2taQ2bB5Fq"
   },
   "source": [
    "# Plot Results"
   ]
  },
  {
   "cell_type": "code",
   "execution_count": 3,
   "metadata": {
    "id": "tRY6ZXIQ-TDn"
   },
   "outputs": [],
   "source": [
    "my_file = open(\"train_loss.txt\", \"r\")\n",
    "content = my_file.read()\n",
    "train_loss = content.split(\"\\n\")\n",
    "my_file.close()\n",
    "train_loss = [float(train_loss[i]) for i in range(0,len(train_loss)-1)]"
   ]
  },
  {
   "cell_type": "code",
   "execution_count": 4,
   "metadata": {
    "id": "tCbt8BuCBNSw"
   },
   "outputs": [],
   "source": [
    "my_file = open(\"test_loss.txt\", \"r\")\n",
    "content = my_file.read()\n",
    "test_loss = content.split(\"\\n\")\n",
    "my_file.close()\n",
    "test_loss = [float(test_loss[i]) for i in range(0,len(test_loss)-1)]"
   ]
  },
  {
   "cell_type": "code",
   "execution_count": 5,
   "metadata": {
    "id": "SUua1VaCBN1r"
   },
   "outputs": [],
   "source": [
    "my_file = open(\"train_acc.txt\", \"r\")\n",
    "content = my_file.read()\n",
    "train_acc = content.split(\"\\n\")\n",
    "my_file.close()\n",
    "train_acc = [float(train_acc[i]) for i in range(0,len(train_acc)-1)]"
   ]
  },
  {
   "cell_type": "code",
   "execution_count": 6,
   "metadata": {
    "id": "hhciAhlvBORe"
   },
   "outputs": [],
   "source": [
    "my_file = open(\"test_acc.txt\", \"r\")\n",
    "content = my_file.read()\n",
    "test_acc = content.split(\"\\n\")\n",
    "my_file.close()\n",
    "test_acc = [float(test_acc[i]) for i in range(0,len(test_acc)-1)]"
   ]
  },
  {
   "cell_type": "code",
   "execution_count": 7,
   "metadata": {
    "id": "G_se5n4PBreM"
   },
   "outputs": [],
   "source": [
    "x = list(range(1,61))"
   ]
  },
  {
   "cell_type": "code",
   "execution_count": 8,
   "metadata": {
    "colab": {
     "base_uri": "https://localhost:8080/",
     "height": 295
    },
    "id": "rIhmZ5KxCDu-",
    "outputId": "44ca96c3-9457-4916-a79b-1de31af00232"
   },
   "outputs": [
    {
     "data": {
      "image/png": "[encoded data removed]",
      "text/plain": [
       "<Figure size 432x288 with 1 Axes>"
      ]
     },
     "metadata": {
      "needs_background": "light"
     },
     "output_type": "display_data"
    }
   ],
   "source": [
    "plt.plot(x, train_loss)\n",
    "plt.xlabel('Epochs')\n",
    "plt.ylabel('Loss')\n",
    "plt.title('Training Loss')\n",
    "plt.show()"
   ]
  },
  {
   "cell_type": "code",
   "execution_count": 9,
   "metadata": {
    "colab": {
     "base_uri": "https://localhost:8080/",
     "height": 295
    },
    "id": "oMOY7BpDChvs",
    "outputId": "317c9b12-0829-4645-d07f-810653c41ed7"
   },
   "outputs": [
    {
     "data": {
      "image/png": "[encoded data removed]",
      "text/plain": [
       "<Figure size 432x288 with 1 Axes>"
      ]
     },
     "metadata": {
      "needs_background": "light"
     },
     "output_type": "display_data"
    }
   ],
   "source": [
    "plt.plot(x, train_acc)\n",
    "plt.xlabel('Epochs')\n",
    "plt.ylabel('Accuracy')\n",
    "plt.title('Training Accuracy')\n",
    "plt.show()"
   ]
  },
  {
   "cell_type": "code",
   "execution_count": 10,
   "metadata": {
    "colab": {
     "base_uri": "https://localhost:8080/",
     "height": 295
    },
    "id": "FRqC_JhaCiW9",
    "outputId": "a6d1dc6e-6b3a-44b5-c015-1a4eb871b36d"
   },
   "outputs": [
    {
     "data": {
      "image/png": "[encoded data removed]",
      "text/plain": [
       "<Figure size 432x288 with 1 Axes>"
      ]
     },
     "metadata": {
      "needs_background": "light"
     },
     "output_type": "display_data"
    }
   ],
   "source": [
    "plt.plot(x, test_loss)\n",
    "plt.xlabel('Epochs')\n",
    "plt.ylabel('Loss')\n",
    "plt.title('Testing Loss')\n",
    "plt.show()"
   ]
  },
  {
   "cell_type": "code",
   "execution_count": 11,
   "metadata": {
    "colab": {
     "base_uri": "https://localhost:8080/",
     "height": 295
    },
    "id": "6bjhcrI8Ciwb",
    "outputId": "ba204f70-2249-4fae-891b-d0f34c0db901"
   },
   "outputs": [
    {
     "data": {
      "image/png": "[encoded data removed]",
      "text/plain": [
       "<Figure size 432x288 with 1 Axes>"
      ]
     },
     "metadata": {
      "needs_background": "light"
     },
     "output_type": "display_data"
    }
   ],
   "source": [
    "plt.plot(x, test_acc)\n",
    "plt.xlabel('Epochs')\n",
    "plt.ylabel('Accuracy')\n",
    "plt.title('Testing Accuracy')\n",
    "plt.show()"
   ]
  }
 ],
 "metadata": {
  "accelerator": "GPU",
  "colab": {
   "collapsed_sections": [
    "hdmlMq7BBzoV",
    "1uiTvOH5BzUD"
   ],
   "name": "Model3.ipynb",
   "provenance": []
  },
  "kernelspec": {
   "display_name": "Python 3",
   "language": "python",
   "name": "python3"
  },
  "language_info": {
   "codemirror_mode": {
    "name": "ipython",
    "version": 3
   },
   "file_extension": ".py",
   "mimetype": "text/x-python",
   "name": "python",
   "nbconvert_exporter": "python",
   "pygments_lexer": "ipython3",
   "version": "3.8.6"
  }
 },
 "nbformat": 4,
 "nbformat_minor": 1
}
