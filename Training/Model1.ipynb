{
 "cells": [
  {
   "cell_type": "markdown",
   "metadata": {
    "id": "hdmlMq7BBzoV"
   },
   "source": [
    "# Import Packages"
   ]
  },
  {
   "cell_type": "code",
   "execution_count": null,
   "metadata": {
    "id": "b2kQ-mhu-DZR"
   },
   "outputs": [],
   "source": [
    "import matplotlib.pyplot as plt"
   ]
  },
  {
   "cell_type": "markdown",
   "metadata": {
    "id": "1uiTvOH5BzUD"
   },
   "source": [
    "# Train Model"
   ]
  },
  {
   "cell_type": "code",
   "execution_count": null,
   "metadata": {
    "colab": {
     "base_uri": "https://localhost:8080/"
    },
    "id": "dHfxgD-_yZ3J",
    "outputId": "93df17fc-981f-4248-f356-2b4ed77fbc38"
   },
   "outputs": [
    {
     "name": "stdout",
     "output_type": "stream",
     "text": [
      "Torch device selected:  cuda\n",
      "/usr/local/lib/python3.7/dist-packages/torchvision/datasets/mnist.py:498: UserWarning: The given NumPy array is not writeable, and PyTorch does not support non-writeable tensors. This means you can write to the underlying (supposedly non-writeable) NumPy array using the tensor. You may want to copy the array to protect its data or make it writeable before converting it to a tensor. This type of warning will be suppressed for the rest of this program. (Triggered internally at  /pytorch/torch/csrc/utils/tensor_numpy.cpp:180.)\n",
      "  return torch.from_numpy(parsed.astype(m[2], copy=False)).view(*s)\n",
      "/usr/local/lib/python3.7/dist-packages/torch/utils/data/dataloader.py:481: UserWarning: This DataLoader will create 4 worker processes in total. Our suggested max number of worker in current system is 2, which is smaller than what this DataLoader is going to create. Please be aware that excessive worker creation might get DataLoader running slow or even freeze, lower the worker number to avoid potential slowness/freeze if necessary.\n",
      "  cpuset_checked))\n",
      "epoch :  1\n",
      "/usr/local/lib/python3.7/dist-packages/torch/nn/functional.py:1805: UserWarning: nn.functional.sigmoid is deprecated. Use torch.sigmoid instead.\n",
      "  warnings.warn(\"nn.functional.sigmoid is deprecated. Use torch.sigmoid instead.\")\n",
      "Train set: Average loss: 0.2665, Accuracy: 55327/60000 (92%)\n",
      "\n",
      "\n",
      "Test set: Average loss: 0.1441, Accuracy: 9596/10000 (96%)\n",
      "\n",
      "epoch :  2\n",
      "Train set: Average loss: 0.1223, Accuracy: 57850/60000 (96%)\n",
      "\n",
      "\n",
      "Test set: Average loss: 0.1118, Accuracy: 9654/10000 (97%)\n",
      "\n",
      "epoch :  3\n",
      "Train set: Average loss: 0.0878, Accuracy: 58430/60000 (97%)\n",
      "\n",
      "\n",
      "Test set: Average loss: 0.1003, Accuracy: 9705/10000 (97%)\n",
      "\n",
      "epoch :  4\n",
      "Train set: Average loss: 0.0675, Accuracy: 58836/60000 (98%)\n",
      "\n",
      "\n",
      "Test set: Average loss: 0.0887, Accuracy: 9731/10000 (97%)\n",
      "\n",
      "epoch :  5\n",
      "Train set: Average loss: 0.0542, Accuracy: 59075/60000 (98%)\n",
      "\n",
      "\n",
      "Test set: Average loss: 0.0807, Accuracy: 9758/10000 (98%)\n",
      "\n",
      "epoch :  6\n",
      "Train set: Average loss: 0.0434, Accuracy: 59305/60000 (99%)\n",
      "\n",
      "\n",
      "Test set: Average loss: 0.0813, Accuracy: 9740/10000 (97%)\n",
      "\n",
      "epoch :  7\n",
      "Train set: Average loss: 0.0350, Accuracy: 59451/60000 (99%)\n",
      "\n",
      "\n",
      "Test set: Average loss: 0.0780, Accuracy: 9756/10000 (98%)\n",
      "\n",
      "epoch :  8\n",
      "Train set: Average loss: 0.0284, Accuracy: 59599/60000 (99%)\n",
      "\n",
      "\n",
      "Test set: Average loss: 0.0788, Accuracy: 9760/10000 (98%)\n",
      "\n",
      "epoch :  9\n",
      "Train set: Average loss: 0.0238, Accuracy: 59700/60000 (100%)\n",
      "\n",
      "\n",
      "Test set: Average loss: 0.0751, Accuracy: 9761/10000 (98%)\n",
      "\n",
      "epoch :  10\n",
      "Train set: Average loss: 0.0193, Accuracy: 59765/60000 (100%)\n",
      "\n",
      "\n",
      "Test set: Average loss: 0.0720, Accuracy: 9783/10000 (98%)\n",
      "\n",
      "epoch :  11\n",
      "Train set: Average loss: 0.0158, Accuracy: 59841/60000 (100%)\n",
      "\n",
      "\n",
      "Test set: Average loss: 0.0767, Accuracy: 9763/10000 (98%)\n",
      "\n",
      "epoch :  12\n",
      "Train set: Average loss: 0.0130, Accuracy: 59893/60000 (100%)\n",
      "\n",
      "\n",
      "Test set: Average loss: 0.0809, Accuracy: 9760/10000 (98%)\n",
      "\n",
      "epoch :  13\n",
      "Train set: Average loss: 0.0107, Accuracy: 59935/60000 (100%)\n",
      "\n",
      "\n",
      "Test set: Average loss: 0.0730, Accuracy: 9778/10000 (98%)\n",
      "\n",
      "epoch :  14\n",
      "Train set: Average loss: 0.0090, Accuracy: 59951/60000 (100%)\n",
      "\n",
      "\n",
      "Test set: Average loss: 0.0743, Accuracy: 9773/10000 (98%)\n",
      "\n",
      "epoch :  15\n",
      "Train set: Average loss: 0.0077, Accuracy: 59968/60000 (100%)\n",
      "\n",
      "\n",
      "Test set: Average loss: 0.0754, Accuracy: 9773/10000 (98%)\n",
      "\n",
      "epoch :  16\n",
      "Train set: Average loss: 0.0067, Accuracy: 59982/60000 (100%)\n",
      "\n",
      "\n",
      "Test set: Average loss: 0.0748, Accuracy: 9782/10000 (98%)\n",
      "\n",
      "epoch :  17\n",
      "Train set: Average loss: 0.0059, Accuracy: 59987/60000 (100%)\n",
      "\n",
      "\n",
      "Test set: Average loss: 0.0747, Accuracy: 9775/10000 (98%)\n",
      "\n",
      "epoch :  18\n",
      "Train set: Average loss: 0.0053, Accuracy: 59991/60000 (100%)\n",
      "\n",
      "\n",
      "Test set: Average loss: 0.0752, Accuracy: 9787/10000 (98%)\n",
      "\n",
      "epoch :  19\n",
      "Train set: Average loss: 0.0048, Accuracy: 59994/60000 (100%)\n",
      "\n",
      "\n",
      "Test set: Average loss: 0.0752, Accuracy: 9788/10000 (98%)\n",
      "\n",
      "epoch :  20\n",
      "Train set: Average loss: 0.0043, Accuracy: 59994/60000 (100%)\n",
      "\n",
      "\n",
      "Test set: Average loss: 0.0753, Accuracy: 9789/10000 (98%)\n",
      "\n",
      "epoch :  21\n",
      "Train set: Average loss: 0.0040, Accuracy: 59997/60000 (100%)\n",
      "\n",
      "\n",
      "Test set: Average loss: 0.0760, Accuracy: 9786/10000 (98%)\n",
      "\n",
      "epoch :  22\n",
      "Train set: Average loss: 0.0037, Accuracy: 59997/60000 (100%)\n",
      "\n",
      "\n",
      "Test set: Average loss: 0.0766, Accuracy: 9783/10000 (98%)\n",
      "\n",
      "epoch :  23\n",
      "Train set: Average loss: 0.0034, Accuracy: 59998/60000 (100%)\n",
      "\n",
      "\n",
      "Test set: Average loss: 0.0767, Accuracy: 9783/10000 (98%)\n",
      "\n",
      "epoch :  24\n",
      "Train set: Average loss: 0.0032, Accuracy: 59999/60000 (100%)\n",
      "\n",
      "\n",
      "Test set: Average loss: 0.0770, Accuracy: 9784/10000 (98%)\n",
      "\n",
      "epoch :  25\n",
      "Train set: Average loss: 0.0030, Accuracy: 59999/60000 (100%)\n",
      "\n",
      "\n",
      "Test set: Average loss: 0.0784, Accuracy: 9790/10000 (98%)\n",
      "\n",
      "epoch :  26\n",
      "Train set: Average loss: 0.0028, Accuracy: 59999/60000 (100%)\n",
      "\n",
      "\n",
      "Test set: Average loss: 0.0791, Accuracy: 9783/10000 (98%)\n",
      "\n",
      "epoch :  27\n",
      "Train set: Average loss: 0.0027, Accuracy: 59999/60000 (100%)\n",
      "\n",
      "\n",
      "Test set: Average loss: 0.0793, Accuracy: 9784/10000 (98%)\n",
      "\n",
      "epoch :  28\n",
      "Train set: Average loss: 0.0025, Accuracy: 59999/60000 (100%)\n",
      "\n",
      "\n",
      "Test set: Average loss: 0.0784, Accuracy: 9786/10000 (98%)\n",
      "\n",
      "epoch :  29\n",
      "Train set: Average loss: 0.0024, Accuracy: 59999/60000 (100%)\n",
      "\n",
      "\n",
      "Test set: Average loss: 0.0796, Accuracy: 9789/10000 (98%)\n",
      "\n",
      "epoch :  30\n",
      "Train set: Average loss: 0.0023, Accuracy: 59999/60000 (100%)\n",
      "\n",
      "\n",
      "Test set: Average loss: 0.0803, Accuracy: 9789/10000 (98%)\n",
      "\n",
      "epoch :  31\n",
      "Train set: Average loss: 0.0022, Accuracy: 59999/60000 (100%)\n",
      "\n",
      "\n",
      "Test set: Average loss: 0.0803, Accuracy: 9787/10000 (98%)\n",
      "\n",
      "epoch :  32\n",
      "Train set: Average loss: 0.0021, Accuracy: 59999/60000 (100%)\n",
      "\n",
      "\n",
      "Test set: Average loss: 0.0807, Accuracy: 9786/10000 (98%)\n",
      "\n",
      "epoch :  33\n",
      "Train set: Average loss: 0.0020, Accuracy: 59999/60000 (100%)\n",
      "\n",
      "\n",
      "Test set: Average loss: 0.0807, Accuracy: 9786/10000 (98%)\n",
      "\n",
      "epoch :  34\n",
      "Train set: Average loss: 0.0019, Accuracy: 59999/60000 (100%)\n",
      "\n",
      "\n",
      "Test set: Average loss: 0.0812, Accuracy: 9789/10000 (98%)\n",
      "\n",
      "epoch :  35\n",
      "Train set: Average loss: 0.0018, Accuracy: 59999/60000 (100%)\n",
      "\n",
      "\n",
      "Test set: Average loss: 0.0821, Accuracy: 9787/10000 (98%)\n",
      "\n",
      "epoch :  36\n",
      "Train set: Average loss: 0.0017, Accuracy: 59999/60000 (100%)\n",
      "\n",
      "\n",
      "Test set: Average loss: 0.0817, Accuracy: 9791/10000 (98%)\n",
      "\n",
      "epoch :  37\n",
      "Train set: Average loss: 0.0017, Accuracy: 59999/60000 (100%)\n",
      "\n",
      "\n",
      "Test set: Average loss: 0.0829, Accuracy: 9787/10000 (98%)\n",
      "\n",
      "epoch :  38\n",
      "Train set: Average loss: 0.0016, Accuracy: 60000/60000 (100%)\n",
      "\n",
      "\n",
      "Test set: Average loss: 0.0823, Accuracy: 9787/10000 (98%)\n",
      "\n",
      "epoch :  39\n",
      "Train set: Average loss: 0.0015, Accuracy: 60000/60000 (100%)\n",
      "\n",
      "\n",
      "Test set: Average loss: 0.0825, Accuracy: 9788/10000 (98%)\n",
      "\n",
      "epoch :  40\n",
      "Train set: Average loss: 0.0015, Accuracy: 59999/60000 (100%)\n",
      "\n",
      "\n",
      "Test set: Average loss: 0.0833, Accuracy: 9787/10000 (98%)\n",
      "\n",
      "epoch :  41\n",
      "Train set: Average loss: 0.0014, Accuracy: 60000/60000 (100%)\n",
      "\n",
      "\n",
      "Test set: Average loss: 0.0832, Accuracy: 9788/10000 (98%)\n",
      "\n",
      "epoch :  42\n",
      "Train set: Average loss: 0.0014, Accuracy: 60000/60000 (100%)\n",
      "\n",
      "\n",
      "Test set: Average loss: 0.0830, Accuracy: 9786/10000 (98%)\n",
      "\n",
      "epoch :  43\n",
      "Train set: Average loss: 0.0014, Accuracy: 60000/60000 (100%)\n",
      "\n",
      "\n",
      "Test set: Average loss: 0.0837, Accuracy: 9788/10000 (98%)\n",
      "\n",
      "epoch :  44\n",
      "Train set: Average loss: 0.0013, Accuracy: 60000/60000 (100%)\n",
      "\n",
      "\n",
      "Test set: Average loss: 0.0839, Accuracy: 9790/10000 (98%)\n",
      "\n",
      "epoch :  45\n",
      "Train set: Average loss: 0.0013, Accuracy: 60000/60000 (100%)\n",
      "\n",
      "\n",
      "Test set: Average loss: 0.0844, Accuracy: 9789/10000 (98%)\n",
      "\n",
      "epoch :  46\n",
      "Train set: Average loss: 0.0012, Accuracy: 60000/60000 (100%)\n",
      "\n",
      "\n",
      "Test set: Average loss: 0.0845, Accuracy: 9788/10000 (98%)\n",
      "\n",
      "epoch :  47\n",
      "Train set: Average loss: 0.0012, Accuracy: 60000/60000 (100%)\n",
      "\n",
      "\n",
      "Test set: Average loss: 0.0844, Accuracy: 9786/10000 (98%)\n",
      "\n",
      "epoch :  48\n",
      "Train set: Average loss: 0.0012, Accuracy: 60000/60000 (100%)\n",
      "\n",
      "\n",
      "Test set: Average loss: 0.0846, Accuracy: 9786/10000 (98%)\n",
      "\n",
      "epoch :  49\n",
      "Train set: Average loss: 0.0011, Accuracy: 60000/60000 (100%)\n",
      "\n",
      "\n",
      "Test set: Average loss: 0.0848, Accuracy: 9786/10000 (98%)\n",
      "\n",
      "epoch :  50\n",
      "Train set: Average loss: 0.0011, Accuracy: 60000/60000 (100%)\n",
      "\n",
      "\n",
      "Test set: Average loss: 0.0846, Accuracy: 9785/10000 (98%)\n",
      "\n",
      "epoch :  51\n",
      "Train set: Average loss: 0.0011, Accuracy: 60000/60000 (100%)\n",
      "\n",
      "\n",
      "Test set: Average loss: 0.0851, Accuracy: 9782/10000 (98%)\n",
      "\n",
      "epoch :  52\n",
      "Train set: Average loss: 0.0011, Accuracy: 60000/60000 (100%)\n",
      "\n",
      "\n",
      "Test set: Average loss: 0.0850, Accuracy: 9778/10000 (98%)\n",
      "\n",
      "epoch :  53\n",
      "Train set: Average loss: 0.0010, Accuracy: 60000/60000 (100%)\n",
      "\n",
      "\n",
      "Test set: Average loss: 0.0858, Accuracy: 9784/10000 (98%)\n",
      "\n",
      "epoch :  54\n",
      "Train set: Average loss: 0.0010, Accuracy: 60000/60000 (100%)\n",
      "\n",
      "\n",
      "Test set: Average loss: 0.0859, Accuracy: 9785/10000 (98%)\n",
      "\n",
      "epoch :  55\n",
      "Train set: Average loss: 0.0010, Accuracy: 60000/60000 (100%)\n",
      "\n",
      "\n",
      "Test set: Average loss: 0.0862, Accuracy: 9785/10000 (98%)\n",
      "\n",
      "epoch :  56\n",
      "Train set: Average loss: 0.0010, Accuracy: 60000/60000 (100%)\n",
      "\n",
      "\n",
      "Test set: Average loss: 0.0862, Accuracy: 9784/10000 (98%)\n",
      "\n",
      "epoch :  57\n",
      "Train set: Average loss: 0.0009, Accuracy: 60000/60000 (100%)\n",
      "\n",
      "\n",
      "Test set: Average loss: 0.0859, Accuracy: 9785/10000 (98%)\n",
      "\n",
      "epoch :  58\n",
      "Train set: Average loss: 0.0009, Accuracy: 60000/60000 (100%)\n",
      "\n",
      "\n",
      "Test set: Average loss: 0.0865, Accuracy: 9787/10000 (98%)\n",
      "\n",
      "epoch :  59\n",
      "Train set: Average loss: 0.0009, Accuracy: 60000/60000 (100%)\n",
      "\n",
      "\n",
      "Test set: Average loss: 0.0868, Accuracy: 9785/10000 (98%)\n",
      "\n",
      "epoch :  60\n",
      "Train set: Average loss: 0.0009, Accuracy: 60000/60000 (100%)\n",
      "\n",
      "\n",
      "Test set: Average loss: 0.0866, Accuracy: 9787/10000 (98%)\n",
      "\n",
      "accuracy is 97.91\n",
      "Training and evaluation finished\n"
     ]
    }
   ],
   "source": [
    "!python train_evaluate_CNN.py --mode 1 --learning_rate 0.1 --num_epochs 60 --batch_size 10"
   ]
  },
  {
   "cell_type": "markdown",
   "metadata": {
    "id": "cG2taQ2bB5Fq"
   },
   "source": [
    "# Plot Results"
   ]
  },
  {
   "cell_type": "code",
   "execution_count": null,
   "metadata": {
    "id": "tRY6ZXIQ-TDn"
   },
   "outputs": [],
   "source": [
    "my_file = open(\"train_loss.txt\", \"r\")\n",
    "content = my_file.read()\n",
    "train_loss = content.split(\"\\n\")\n",
    "my_file.close()\n",
    "train_loss = [float(train_loss[i]) for i in range(0,len(train_loss)-1)]"
   ]
  },
  {
   "cell_type": "code",
   "execution_count": null,
   "metadata": {
    "id": "tCbt8BuCBNSw"
   },
   "outputs": [],
   "source": [
    "my_file = open(\"test_loss.txt\", \"r\")\n",
    "content = my_file.read()\n",
    "test_loss = content.split(\"\\n\")\n",
    "my_file.close()\n",
    "test_loss = [float(test_loss[i]) for i in range(0,len(test_loss)-1)]"
   ]
  },
  {
   "cell_type": "code",
   "execution_count": null,
   "metadata": {
    "id": "SUua1VaCBN1r"
   },
   "outputs": [],
   "source": [
    "my_file = open(\"train_acc.txt\", \"r\")\n",
    "content = my_file.read()\n",
    "train_acc = content.split(\"\\n\")\n",
    "my_file.close()\n",
    "train_acc = [float(train_acc[i]) for i in range(0,len(train_acc)-1)]"
   ]
  },
  {
   "cell_type": "code",
   "execution_count": null,
   "metadata": {
    "id": "hhciAhlvBORe"
   },
   "outputs": [],
   "source": [
    "my_file = open(\"test_acc.txt\", \"r\")\n",
    "content = my_file.read()\n",
    "test_acc = content.split(\"\\n\")\n",
    "my_file.close()\n",
    "test_acc = [float(test_acc[i]) for i in range(0,len(test_acc)-1)]"
   ]
  },
  {
   "cell_type": "code",
   "execution_count": null,
   "metadata": {
    "id": "G_se5n4PBreM"
   },
   "outputs": [],
   "source": [
    "x = list(range(1,61))"
   ]
  },
  {
   "cell_type": "code",
   "execution_count": null,
   "metadata": {
    "colab": {
     "base_uri": "https://localhost:8080/",
     "height": 295
    },
    "id": "rIhmZ5KxCDu-",
    "outputId": "08930930-229a-48fc-afcd-5a8d4d5d7291"
   },
   "outputs": [
    {
     "data": {
      "image/png": "[encoded data removed]",
      "text/plain": [
       "<Figure size 432x288 with 1 Axes>"
      ]
     },
     "metadata": {
      "needs_background": "light"
     },
     "output_type": "display_data"
    }
   ],
   "source": [
    "plt.plot(x, train_loss)\n",
    "plt.xlabel('Epochs')\n",
    "plt.ylabel('Loss')\n",
    "plt.title('Training Loss')\n",
    "plt.show()"
   ]
  },
  {
   "cell_type": "code",
   "execution_count": null,
   "metadata": {
    "colab": {
     "base_uri": "https://localhost:8080/",
     "height": 295
    },
    "id": "oMOY7BpDChvs",
    "outputId": "084d6c3b-1ab0-41e9-cc3f-7797d9eb36a1"
   },
   "outputs": [
    {
     "data": {
      "image/png": "[encoded data removed]",
      "text/plain": [
       "<Figure size 432x288 with 1 Axes>"
      ]
     },
     "metadata": {
      "needs_background": "light"
     },
     "output_type": "display_data"
    }
   ],
   "source": [
    "plt.plot(x, train_acc)\n",
    "plt.xlabel('Epochs')\n",
    "plt.ylabel('Accuracy')\n",
    "plt.title('Training Accuracy')\n",
    "plt.show()"
   ]
  },
  {
   "cell_type": "code",
   "execution_count": null,
   "metadata": {
    "colab": {
     "base_uri": "https://localhost:8080/",
     "height": 295
    },
    "id": "FRqC_JhaCiW9",
    "outputId": "3d0a5c5f-460f-4fb6-afa2-3c0c21fd47a1"
   },
   "outputs": [
    {
     "data": {
      "image/png": "[encoded data removed]",
      "text/plain": [
       "<Figure size 432x288 with 1 Axes>"
      ]
     },
     "metadata": {
      "needs_background": "light"
     },
     "output_type": "display_data"
    }
   ],
   "source": [
    "plt.plot(x, test_loss)\n",
    "plt.xlabel('Epochs')\n",
    "plt.ylabel('Loss')\n",
    "plt.title('Testing Loss')\n",
    "plt.show()"
   ]
  },
  {
   "cell_type": "code",
   "execution_count": null,
   "metadata": {
    "colab": {
     "base_uri": "https://localhost:8080/",
     "height": 295
    },
    "id": "6bjhcrI8Ciwb",
    "outputId": "0f53e9be-7354-4164-d3fc-d2a9a5393dbc"
   },
   "outputs": [
    {
     "data": {
      "image/png": "[encoded data removed]",
      "text/plain": [
       "<Figure size 432x288 with 1 Axes>"
      ]
     },
     "metadata": {
      "needs_background": "light"
     },
     "output_type": "display_data"
    }
   ],
   "source": [
    "plt.plot(x, test_acc)\n",
    "plt.xlabel('Epochs')\n",
    "plt.ylabel('Accuracy')\n",
    "plt.title('Testing Accuracy')\n",
    "plt.show()"
   ]
  }
 ],
 "metadata": {
  "accelerator": "GPU",
  "colab": {
   "collapsed_sections": [
    "hdmlMq7BBzoV",
    "1uiTvOH5BzUD",
    "cG2taQ2bB5Fq"
   ],
   "name": "Model1.ipynb",
   "provenance": []
  },
  "kernelspec": {
   "display_name": "Python 3",
   "language": "python",
   "name": "python3"
  },
  "language_info": {
   "codemirror_mode": {
    "name": "ipython",
    "version": 3
   },
   "file_extension": ".py",
   "mimetype": "text/x-python",
   "name": "python",
   "nbconvert_exporter": "python",
   "pygments_lexer": "ipython3",
   "version": "3.8.6"
  }
 },
 "nbformat": 4,
 "nbformat_minor": 1
}
